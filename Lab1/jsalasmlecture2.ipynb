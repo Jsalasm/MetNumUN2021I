{
  "nbformat": 4,
  "nbformat_minor": 0,
  "metadata": {
    "kernelspec": {
      "display_name": "Python 3.5",
      "language": "python",
      "name": "py35"
    },
    "language_info": {
      "codemirror_mode": {
        "name": "ipython",
        "version": 3
      },
      "file_extension": ".py",
      "mimetype": "text/x-python",
      "name": "python",
      "nbconvert_exporter": "python",
      "pygments_lexer": "ipython3",
      "version": "3.5.9"
    },
    "colab": {
      "name": "jsalasmlecture2.ipynb",
      "provenance": []
    }
  },
  "cells": [
    {
      "cell_type": "markdown",
      "metadata": {
        "id": "24HgHnUXKBR6"
      },
      "source": [
        "# Introduction to Python\n",
        "by Maxwell Margenot\n",
        "\n",
        "Part of the Quantopian Lecture Series:\n",
        "\n",
        "* [www.quantopian.com/lectures](https://www.quantopian.com/lectures)\n",
        "* [github.com/quantopian/research_public](https://github.com/quantopian/research_public)\n",
        "\n",
        "\n",
        "---\n",
        "\n",
        "All of the coding that you will do on the Quantopian platform will be in Python. It is also just a good, jack-of-all-trades language to know! Here we will provide you with the basics so that you can feel confident going through our other lectures and understanding what is happening."
      ]
    },
    {
      "cell_type": "markdown",
      "metadata": {
        "id": "S4g6plaQKBR_"
      },
      "source": [
        "## Code Comments\n",
        "\n",
        "A comment is a note made by a programmer in the source code of a program. Its purpose is to clarify the source code and make it easier for people to follow along with what is happening. Anything in a comment is generally ignored when the code is actually run, making comments useful for including explanations and reasoning as well as removing specific lines of code that you may be unsure about. Comments in Python are created by using the pound symbol (`# Insert Text Here`). Including a `#` in a line of code will comment out anything that follows it."
      ]
    },
    {
      "cell_type": "code",
      "metadata": {
        "id": "GNVrVDkbKBR_"
      },
      "source": [
        "# This is a comment\n",
        "# These lines of code will not change any values\n",
        "# Anything following the first # is not run as code"
      ],
      "execution_count": 1,
      "outputs": []
    },
    {
      "cell_type": "code",
      "metadata": {
        "id": "xyAKHu2hKBSA"
      },
      "source": [
        "# This is a commentario\n",
        "# These lines of code will not change any values\n",
        "# :vvvvvvvvvvvvvvvvvvvvvvvvvvvvvvvvvvvvv"
      ],
      "execution_count": 2,
      "outputs": []
    },
    {
      "cell_type": "markdown",
      "metadata": {
        "id": "x6wbDNCNKBSA"
      },
      "source": [
        "You may hear text enclosed in triple quotes (`\"\"\" Insert Text Here \"\"\"`) referred to as multi-line comments, but this is not entirely accurate. This is a special type of `string` (a data type we will cover), called a `docstring`, used to explain the purpose of a function."
      ]
    },
    {
      "cell_type": "code",
      "metadata": {
        "id": "IAr2Ecm-KBSA",
        "colab": {
          "base_uri": "https://localhost:8080/",
          "height": 35
        },
        "outputId": "50f47054-0dbd-44b2-c18c-2ed6f73c3d63"
      },
      "source": [
        "\"\"\" This is a special string \"\"\""
      ],
      "execution_count": 3,
      "outputs": [
        {
          "output_type": "execute_result",
          "data": {
            "application/vnd.google.colaboratory.intrinsic+json": {
              "type": "string"
            },
            "text/plain": [
              "' This is a special string '"
            ]
          },
          "metadata": {
            "tags": []
          },
          "execution_count": 3
        }
      ]
    },
    {
      "cell_type": "code",
      "metadata": {
        "id": "ou2AvWNfKBSB",
        "colab": {
          "base_uri": "https://localhost:8080/",
          "height": 35
        },
        "outputId": "1c808823-4add-400b-bf85-f0e3e865f5f4"
      },
      "source": [
        "\"\"\" esta es una cadena especial \"\"\""
      ],
      "execution_count": 4,
      "outputs": [
        {
          "output_type": "execute_result",
          "data": {
            "application/vnd.google.colaboratory.intrinsic+json": {
              "type": "string"
            },
            "text/plain": [
              "' esta es una cadena especial '"
            ]
          },
          "metadata": {
            "tags": []
          },
          "execution_count": 4
        }
      ]
    },
    {
      "cell_type": "markdown",
      "metadata": {
        "id": "newC6gpNKBSB"
      },
      "source": [
        "Make sure you read the comments within each code cell (if they are there). They will provide more real-time explanations of what is going on as you look at each line of code."
      ]
    },
    {
      "cell_type": "markdown",
      "metadata": {
        "id": "jaDWqI4HKBSB"
      },
      "source": [
        "## Variables\n",
        "\n",
        "Variables provide names for values in programming. If you want to save a value for later or repeated use, you give the value a name, storing the contents in a variable. Variables in programming work in a fundamentally similar way to variables in algebra, but in Python they can take on various different data types.\n",
        "\n",
        "The basic variable types that we will cover in this section are `integers`, `floating point numbers`, `booleans`, and `strings`. \n",
        "\n",
        "An `integer` in programming is the same as in mathematics, a round number with no values after the decimal point. We use the built-in `print` function here to display the values of our variables as well as their types!"
      ]
    },
    {
      "cell_type": "code",
      "metadata": {
        "id": "LsisueoTKBSC",
        "colab": {
          "base_uri": "https://localhost:8080/"
        },
        "outputId": "ec23120a-8365-4368-85b8-cc9865e3cb40"
      },
      "source": [
        "my_integer = 50\n",
        "print(my_integer, type(my_integer))"
      ],
      "execution_count": 5,
      "outputs": [
        {
          "output_type": "stream",
          "text": [
            "50 <class 'int'>\n"
          ],
          "name": "stdout"
        }
      ]
    },
    {
      "cell_type": "code",
      "metadata": {
        "id": "LZ9BoJvIKBSC",
        "colab": {
          "base_uri": "https://localhost:8080/"
        },
        "outputId": "5191fcdc-5a63-4b54-d359-d6c556d0f3e5"
      },
      "source": [
        "entero = 50\n",
        "print(entero, type(entero))"
      ],
      "execution_count": 6,
      "outputs": [
        {
          "output_type": "stream",
          "text": [
            "50 <class 'int'>\n"
          ],
          "name": "stdout"
        }
      ]
    },
    {
      "cell_type": "markdown",
      "metadata": {
        "id": "xwV-DavPKBSC"
      },
      "source": [
        "Variables, regardless of type, are assigned by using a single equals sign (`=`). Variables are case-sensitive so any changes in variation in the capitals of a variable name will reference a different variable entirely."
      ]
    },
    {
      "cell_type": "code",
      "metadata": {
        "id": "TPr9FNFAKBSC",
        "colab": {
          "base_uri": "https://localhost:8080/",
          "height": 180
        },
        "outputId": "790670f9-f874-4fd3-99bf-51ed2b270e56"
      },
      "source": [
        "one = 1\n",
        "print(One)"
      ],
      "execution_count": 8,
      "outputs": [
        {
          "output_type": "error",
          "ename": "NameError",
          "evalue": "ignored",
          "traceback": [
            "\u001b[0;31m---------------------------------------------------------------------------\u001b[0m",
            "\u001b[0;31mNameError\u001b[0m                                 Traceback (most recent call last)",
            "\u001b[0;32m<ipython-input-8-6b74af782f90>\u001b[0m in \u001b[0;36m<module>\u001b[0;34m()\u001b[0m\n\u001b[1;32m      1\u001b[0m \u001b[0mone\u001b[0m \u001b[0;34m=\u001b[0m \u001b[0;36m1\u001b[0m\u001b[0;34m\u001b[0m\u001b[0;34m\u001b[0m\u001b[0m\n\u001b[0;32m----> 2\u001b[0;31m \u001b[0mprint\u001b[0m\u001b[0;34m(\u001b[0m\u001b[0mOne\u001b[0m\u001b[0;34m)\u001b[0m\u001b[0;34m\u001b[0m\u001b[0;34m\u001b[0m\u001b[0m\n\u001b[0m",
            "\u001b[0;31mNameError\u001b[0m: name 'One' is not defined"
          ]
        }
      ]
    },
    {
      "cell_type": "code",
      "metadata": {
        "id": "MzE5i8JHKBSD",
        "colab": {
          "base_uri": "https://localhost:8080/"
        },
        "outputId": "c04c845e-bf25-4376-d702-d0a0cda47ff7"
      },
      "source": [
        "dos = 2\n",
        "print(dos)"
      ],
      "execution_count": 9,
      "outputs": [
        {
          "output_type": "stream",
          "text": [
            "2\n"
          ],
          "name": "stdout"
        }
      ]
    },
    {
      "cell_type": "markdown",
      "metadata": {
        "id": "Nds51GUKKBSD"
      },
      "source": [
        "A `floating point` number, or a `float` is a fancy name for a real number (again as in mathematics). To define a `float`, we need to either include a decimal point or specify that the value is a float."
      ]
    },
    {
      "cell_type": "code",
      "metadata": {
        "scrolled": true,
        "id": "P6wplu-EKBSD",
        "colab": {
          "base_uri": "https://localhost:8080/"
        },
        "outputId": "07e9fb97-de8d-44e5-d46d-42fa90af984c"
      },
      "source": [
        "my_float = 1.0\n",
        "print(my_float, type(my_float))\n",
        "my_float = float(1)\n",
        "print(my_float, type(my_float))"
      ],
      "execution_count": 10,
      "outputs": [
        {
          "output_type": "stream",
          "text": [
            "1.0 <class 'float'>\n",
            "1.0 <class 'float'>\n"
          ],
          "name": "stdout"
        }
      ]
    },
    {
      "cell_type": "code",
      "metadata": {
        "scrolled": true,
        "id": "Q43U0MELKBSD",
        "colab": {
          "base_uri": "https://localhost:8080/"
        },
        "outputId": "7c8fec92-eb89-43e7-b497-7da00b92dea7"
      },
      "source": [
        "flotante = 1.0\n",
        "print(flotante, type(flotante))\n",
        "flotante = float(1)\n",
        "print(flotante, type(flotante))"
      ],
      "execution_count": 11,
      "outputs": [
        {
          "output_type": "stream",
          "text": [
            "1.0 <class 'float'>\n",
            "1.0 <class 'float'>\n"
          ],
          "name": "stdout"
        }
      ]
    },
    {
      "cell_type": "markdown",
      "metadata": {
        "id": "LPOwgAwkKBSD"
      },
      "source": [
        "A variable of type `float` will not round the number that you store in it, while a variable of type `integer` will. This makes `floats` more suitable for mathematical calculations where you want more than just integers.\n",
        "\n",
        "Note that as we used the `float()` function to force an number to be considered a `float`, we can use the `int()` function to force a number to be considered an `int`."
      ]
    },
    {
      "cell_type": "code",
      "metadata": {
        "id": "jnBEDbGGKBSE",
        "colab": {
          "base_uri": "https://localhost:8080/"
        },
        "outputId": "f2949023-e82f-44a2-a458-d6f7f26d300a"
      },
      "source": [
        "my_int = int(3.14159)\n",
        "print(my_int, type(my_int))"
      ],
      "execution_count": 12,
      "outputs": [
        {
          "output_type": "stream",
          "text": [
            "3 <class 'int'>\n"
          ],
          "name": "stdout"
        }
      ]
    },
    {
      "cell_type": "code",
      "metadata": {
        "id": "rhbX1H9lKBSE",
        "colab": {
          "base_uri": "https://localhost:8080/"
        },
        "outputId": "8f070d74-cc74-49f1-ae92-d1d9b1f3fb5f"
      },
      "source": [
        "entero = int(2.8182)\n",
        "print(entero, type(entero))"
      ],
      "execution_count": 13,
      "outputs": [
        {
          "output_type": "stream",
          "text": [
            "2 <class 'int'>\n"
          ],
          "name": "stdout"
        }
      ]
    },
    {
      "cell_type": "markdown",
      "metadata": {
        "id": "6Oln50nJKBSE"
      },
      "source": [
        "The `int()` function will also truncate any digits that a number may have after the decimal point!\n",
        "\n",
        "Strings allow you to include text as a variable to operate on. They are defined using either single quotes ('') or double quotes (\"\")."
      ]
    },
    {
      "cell_type": "code",
      "metadata": {
        "id": "vTQyvIulKBSE",
        "colab": {
          "base_uri": "https://localhost:8080/"
        },
        "outputId": "b7efa736-f91f-4d23-f41b-e7d4aa46b012"
      },
      "source": [
        "my_string = 'This is a string with single quotes'\n",
        "print(my_string)\n",
        "my_string = \"This is a string with double quotes\"\n",
        "print(my_string)"
      ],
      "execution_count": 14,
      "outputs": [
        {
          "output_type": "stream",
          "text": [
            "This is a string with single quotes\n",
            "This is a string with double quotes\n"
          ],
          "name": "stdout"
        }
      ]
    },
    {
      "cell_type": "code",
      "metadata": {
        "id": "xV75pXfCKBSE",
        "colab": {
          "base_uri": "https://localhost:8080/"
        },
        "outputId": "2985d4db-c03e-4f14-8e03-d70cc536f5c1"
      },
      "source": [
        "cadena = 'es una cadina con simples comilas'\n",
        "print(cadena)\n",
        "cadena = \"es una cadina con comilas dobles\"\n",
        "print(cadena)"
      ],
      "execution_count": 15,
      "outputs": [
        {
          "output_type": "stream",
          "text": [
            "es una cadina con simples comilas\n",
            "es una cadina con comilas dobles\n"
          ],
          "name": "stdout"
        }
      ]
    },
    {
      "cell_type": "markdown",
      "metadata": {
        "id": "sdSCmFPCKBSF"
      },
      "source": [
        "Both are allowed so that we can include apostrophes or quotation marks in a string if we so choose."
      ]
    },
    {
      "cell_type": "code",
      "metadata": {
        "id": "DDhlSuOeKBSF",
        "colab": {
          "base_uri": "https://localhost:8080/"
        },
        "outputId": "dc392dc0-b038-40b0-9447-79b275468678"
      },
      "source": [
        "my_string = '\"Jabberwocky\", by Lewis Carroll'\n",
        "print(my_string)\n",
        "my_string = \"'Twas brillig, and the slithy toves / Did gyre and gimble in the wabe;\"\n",
        "print(my_string)"
      ],
      "execution_count": 16,
      "outputs": [
        {
          "output_type": "stream",
          "text": [
            "\"Jabberwocky\", by Lewis Carroll\n",
            "'Twas brillig, and the slithy toves / Did gyre and gimble in the wabe;\n"
          ],
          "name": "stdout"
        }
      ]
    },
    {
      "cell_type": "code",
      "metadata": {
        "id": "ve4IxOfDKBSF",
        "colab": {
          "base_uri": "https://localhost:8080/"
        },
        "outputId": "1844060e-b6a4-4d46-d81c-4a3c7287e762"
      },
      "source": [
        "cadena = '\"Jabbebaby\", by 2pac'\n",
        "print(cadena)\n",
        "cadena = \"'lol,bless/ nain;\"\n",
        "print(cadena)"
      ],
      "execution_count": 17,
      "outputs": [
        {
          "output_type": "stream",
          "text": [
            "\"Jabbebaby\", by 2pac\n",
            "'lol,bless/ nain;\n"
          ],
          "name": "stdout"
        }
      ]
    },
    {
      "cell_type": "markdown",
      "metadata": {
        "id": "WFbjqUZVKBSF"
      },
      "source": [
        "Booleans, or `bools` are binary variable types. A `bool` can only take on one of two values, these being `True` or `False`. There is much more to this idea of truth values when it comes to programming, which we cover later in the [Logical Operators](#id-section5) of this notebook."
      ]
    },
    {
      "cell_type": "code",
      "metadata": {
        "id": "slT_2t1sKBSG",
        "colab": {
          "base_uri": "https://localhost:8080/"
        },
        "outputId": "6a30b098-43cb-43b0-ba1f-937eee236a13"
      },
      "source": [
        "my_bool = True\n",
        "print(my_bool, type(my_bool))"
      ],
      "execution_count": 18,
      "outputs": [
        {
          "output_type": "stream",
          "text": [
            "True <class 'bool'>\n"
          ],
          "name": "stdout"
        }
      ]
    },
    {
      "cell_type": "code",
      "metadata": {
        "id": "d1P_3QI0KBSG",
        "colab": {
          "base_uri": "https://localhost:8080/"
        },
        "outputId": "049736af-3d08-4dbc-fbab-19d422040189"
      },
      "source": [
        "booleano = False\n",
        "print(booleano, type(booleano))"
      ],
      "execution_count": 19,
      "outputs": [
        {
          "output_type": "stream",
          "text": [
            "False <class 'bool'>\n"
          ],
          "name": "stdout"
        }
      ]
    },
    {
      "cell_type": "markdown",
      "metadata": {
        "id": "7kkQA0DZKBSG"
      },
      "source": [
        "There are many more data types that you can assign as variables in Python, but these are the basic ones! We will cover a few more later as we move through this tutorial."
      ]
    },
    {
      "cell_type": "markdown",
      "metadata": {
        "id": "xttaUYl6KBSG"
      },
      "source": [
        "## Basic Math\n",
        "\n",
        "Python has a number of built-in math functions. These can be extended even further by importing the **math** package or by including any number of other calculation-based packages.\n",
        "\n",
        "All of the basic arithmetic operations are supported: `+`, `-`, `/`, and `*`. You can create exponents by using `**` and modular arithmetic is introduced with the mod operator, `%`."
      ]
    },
    {
      "cell_type": "code",
      "metadata": {
        "id": "HbevaaZQKBSG",
        "colab": {
          "base_uri": "https://localhost:8080/"
        },
        "outputId": "18def115-fd03-40a1-8b13-0cf9a2ae0231"
      },
      "source": [
        "print('Addition: ', 2 + 2)\n",
        "print('Subtraction: ', 7 - 4)\n",
        "print('Multiplication: ', 2 * 5)\n",
        "print('Division: ', 10 / 2)\n",
        "print('Exponentiation: ', 3**2)"
      ],
      "execution_count": 20,
      "outputs": [
        {
          "output_type": "stream",
          "text": [
            "Addition:  4\n",
            "Subtraction:  3\n",
            "Multiplication:  10\n",
            "Division:  5.0\n",
            "Exponentiation:  9\n"
          ],
          "name": "stdout"
        }
      ]
    },
    {
      "cell_type": "code",
      "metadata": {
        "id": "tl-tBr-hKBSH",
        "colab": {
          "base_uri": "https://localhost:8080/"
        },
        "outputId": "44b51b85-0b47-4f36-8c47-415d12bada12"
      },
      "source": [
        "print('suma: ', 2 + 3)\n",
        "print('resta: ', 7 - 3)\n",
        "print('Multiplicacion: ', 2 * 3)\n",
        "print('Division: ', 10 / 5)\n",
        "print('Exponensiacion: ', 3**9)"
      ],
      "execution_count": 21,
      "outputs": [
        {
          "output_type": "stream",
          "text": [
            "suma:  5\n",
            "resta:  4\n",
            "Multiplicacion:  6\n",
            "Division:  2.0\n",
            "Exponensiacion:  19683\n"
          ],
          "name": "stdout"
        }
      ]
    },
    {
      "cell_type": "markdown",
      "metadata": {
        "id": "UskpdqXfKBSH"
      },
      "source": [
        "If you are not familiar with the the mod operator, it operates like a remainder function. If we type $15 \\ \\% \\ 4$, it will return the remainder after dividing $15$ by $4$."
      ]
    },
    {
      "cell_type": "code",
      "metadata": {
        "id": "bkRM9grVKBSH",
        "colab": {
          "base_uri": "https://localhost:8080/"
        },
        "outputId": "83d896a8-a1ab-402e-cdf5-0cafede31623"
      },
      "source": [
        "print('Modulo: ', 15 % 4)"
      ],
      "execution_count": 22,
      "outputs": [
        {
          "output_type": "stream",
          "text": [
            "Modulo:  3\n"
          ],
          "name": "stdout"
        }
      ]
    },
    {
      "cell_type": "code",
      "metadata": {
        "id": "qnwd9OL7KBSH",
        "colab": {
          "base_uri": "https://localhost:8080/"
        },
        "outputId": "0883d463-43a0-42f3-fb8a-82925a48a94a"
      },
      "source": [
        "print('Modulo: ', 30 % 6)"
      ],
      "execution_count": 23,
      "outputs": [
        {
          "output_type": "stream",
          "text": [
            "Modulo:  0\n"
          ],
          "name": "stdout"
        }
      ]
    },
    {
      "cell_type": "markdown",
      "metadata": {
        "id": "-Iv3n8yAKBSH"
      },
      "source": [
        "Mathematical functions also work on variables!"
      ]
    },
    {
      "cell_type": "code",
      "metadata": {
        "scrolled": true,
        "id": "aJgW6DvyKBSH",
        "colab": {
          "base_uri": "https://localhost:8080/"
        },
        "outputId": "d7a027a2-08a0-4a0f-c98d-31a4a9d18380"
      },
      "source": [
        "first_integer = 4\n",
        "second_integer = 5\n",
        "print(first_integer * second_integer)"
      ],
      "execution_count": 24,
      "outputs": [
        {
          "output_type": "stream",
          "text": [
            "20\n"
          ],
          "name": "stdout"
        }
      ]
    },
    {
      "cell_type": "code",
      "metadata": {
        "scrolled": true,
        "id": "tOQpZ2-vKBSH",
        "colab": {
          "base_uri": "https://localhost:8080/"
        },
        "outputId": "8b5e38e0-b57a-4812-bb23-f9577230ea97"
      },
      "source": [
        "a = 4\n",
        "z = 5\n",
        "print(a * z)"
      ],
      "execution_count": 25,
      "outputs": [
        {
          "output_type": "stream",
          "text": [
            "20\n"
          ],
          "name": "stdout"
        }
      ]
    },
    {
      "cell_type": "markdown",
      "metadata": {
        "id": "yMO_BxhkKBSI"
      },
      "source": [
        "Make sure that your variables are floats if you want to have decimal points in your answer. If you perform math exclusively with integers, you get an integer. Including any float in the calculation will make the result a float."
      ]
    },
    {
      "cell_type": "code",
      "metadata": {
        "id": "CK0sw1iSKBSI",
        "colab": {
          "base_uri": "https://localhost:8080/"
        },
        "outputId": "587aa6ae-3e55-41ba-9505-fef2609196a7"
      },
      "source": [
        "first_integer = 11\n",
        "second_integer = 3\n",
        "print(first_integer / second_integer)"
      ],
      "execution_count": 26,
      "outputs": [
        {
          "output_type": "stream",
          "text": [
            "3.6666666666666665\n"
          ],
          "name": "stdout"
        }
      ]
    },
    {
      "cell_type": "code",
      "metadata": {
        "id": "Sg62KzJ4KBSI",
        "colab": {
          "base_uri": "https://localhost:8080/"
        },
        "outputId": "43f66cc3-b03b-4617-9d2d-0d8206081da7"
      },
      "source": [
        "a = 12\n",
        "z = 4\n",
        "print(a / z)"
      ],
      "execution_count": 27,
      "outputs": [
        {
          "output_type": "stream",
          "text": [
            "3.0\n"
          ],
          "name": "stdout"
        }
      ]
    },
    {
      "cell_type": "code",
      "metadata": {
        "id": "PP368i2IKBSI",
        "colab": {
          "base_uri": "https://localhost:8080/"
        },
        "outputId": "0b3e21a8-24b9-43f0-952f-5749062d5ff6"
      },
      "source": [
        "first_number = 11.0\n",
        "second_number = 3.0\n",
        "print(first_number / second_number)"
      ],
      "execution_count": 28,
      "outputs": [
        {
          "output_type": "stream",
          "text": [
            "3.6666666666666665\n"
          ],
          "name": "stdout"
        }
      ]
    },
    {
      "cell_type": "code",
      "metadata": {
        "id": "0XVztGs2KBSI",
        "colab": {
          "base_uri": "https://localhost:8080/"
        },
        "outputId": "62a2978d-e903-4b3d-e749-2ec7ac96e8b1"
      },
      "source": [
        "a = 110.0\n",
        "z = 30.0\n",
        "print(a / z)"
      ],
      "execution_count": 29,
      "outputs": [
        {
          "output_type": "stream",
          "text": [
            "3.6666666666666665\n"
          ],
          "name": "stdout"
        }
      ]
    },
    {
      "cell_type": "markdown",
      "metadata": {
        "id": "TIBQd4LGKBSI"
      },
      "source": [
        "Python has a few built-in math functions. The most notable of these are:\n",
        "\n",
        "* `abs()`\n",
        "* `round()`\n",
        "* `max()`\n",
        "* `min()`\n",
        "* `sum()`\n",
        "\n",
        "These functions all act as you would expect, given their names. Calling `abs()` on a number will return its absolute value. The `round()` function will round a number to a specified number of the decimal points (the default is $0$). Calling `max()` or `min()` on a collection of numbers will return, respectively, the maximum or minimum value in the collection. Calling `sum()` on a collection of numbers will add them all up. If you're not familiar with how collections of values in Python work, don't worry! We will cover collections in-depth in the next section. \n",
        "\n",
        "Additional math functionality can be added in with the `math` package."
      ]
    },
    {
      "cell_type": "code",
      "metadata": {
        "id": "daEl7nhxKBSJ"
      },
      "source": [
        "import math"
      ],
      "execution_count": 30,
      "outputs": []
    },
    {
      "cell_type": "code",
      "metadata": {
        "id": "yFn-EVCMKBSJ"
      },
      "source": [
        "import numpy"
      ],
      "execution_count": 31,
      "outputs": []
    },
    {
      "cell_type": "markdown",
      "metadata": {
        "id": "_0U4SHMrKBSJ"
      },
      "source": [
        "The math library adds a long list of new mathematical functions to Python. Feel free to check out the [documentation](https://docs.python.org/2/library/math.html) for the full list and details. It concludes some mathematical constants"
      ]
    },
    {
      "cell_type": "code",
      "metadata": {
        "id": "kgATAWn2KBSJ",
        "colab": {
          "base_uri": "https://localhost:8080/"
        },
        "outputId": "cbeb96df-200c-4be7-a2b2-6c3f449285cb"
      },
      "source": [
        "print('Pi: ', math.pi)\n",
        "print(\"Euler's Constant: \", math.e)"
      ],
      "execution_count": 32,
      "outputs": [
        {
          "output_type": "stream",
          "text": [
            "Pi:  3.141592653589793\n",
            "Euler's Constant:  2.718281828459045\n"
          ],
          "name": "stdout"
        }
      ]
    },
    {
      "cell_type": "code",
      "metadata": {
        "id": "8aLcR8a4KBSJ",
        "colab": {
          "base_uri": "https://localhost:8080/"
        },
        "outputId": "24be184d-f7de-44fc-a9d7-0b0f8a6ebc6c"
      },
      "source": [
        "print('Euler number: ', math.e)\n",
        "print(\"pi: \", math.pi)"
      ],
      "execution_count": 33,
      "outputs": [
        {
          "output_type": "stream",
          "text": [
            "Euler number:  2.718281828459045\n",
            "pi:  3.141592653589793\n"
          ],
          "name": "stdout"
        }
      ]
    },
    {
      "cell_type": "markdown",
      "metadata": {
        "id": "oF8k6qNsKBSJ"
      },
      "source": [
        "As well as some commonly used math functions"
      ]
    },
    {
      "cell_type": "code",
      "metadata": {
        "id": "X8isy4YIKBSJ",
        "colab": {
          "base_uri": "https://localhost:8080/"
        },
        "outputId": "a81a29e6-c4fc-4862-f24a-5b568c0665ac"
      },
      "source": [
        "print('Cosine of pi: ', math.cos(math.pi))"
      ],
      "execution_count": 34,
      "outputs": [
        {
          "output_type": "stream",
          "text": [
            "Cosine of pi:  -1.0\n"
          ],
          "name": "stdout"
        }
      ]
    },
    {
      "cell_type": "code",
      "metadata": {
        "id": "2EWIz-9VKBSK",
        "colab": {
          "base_uri": "https://localhost:8080/"
        },
        "outputId": "7bac3b33-c924-478a-a827-10e2a76eaf47"
      },
      "source": [
        "print('Cosine of euler number: ', math.cos(math.e))"
      ],
      "execution_count": 35,
      "outputs": [
        {
          "output_type": "stream",
          "text": [
            "Cosine of euler number:  -0.9117339147869651\n"
          ],
          "name": "stdout"
        }
      ]
    },
    {
      "cell_type": "markdown",
      "metadata": {
        "id": "p9NamVaFKBSK"
      },
      "source": [
        "## Collections\n",
        "### Lists\n",
        "\n",
        "A `list` in Python is an ordered collection of objects that can contain any data type. We define a `list` using brackets (`[]`)."
      ]
    },
    {
      "cell_type": "code",
      "metadata": {
        "id": "vQvnOY7MKBSK",
        "colab": {
          "base_uri": "https://localhost:8080/"
        },
        "outputId": "c0bd5e73-901c-45b1-afa0-5e39ca455b78"
      },
      "source": [
        "my_list = [1, 2, 3]\n",
        "print(my_list)"
      ],
      "execution_count": 37,
      "outputs": [
        {
          "output_type": "stream",
          "text": [
            "[1, 2, 3]\n"
          ],
          "name": "stdout"
        }
      ]
    },
    {
      "cell_type": "code",
      "metadata": {
        "id": "E4c4vvDkKBSK",
        "colab": {
          "base_uri": "https://localhost:8080/"
        },
        "outputId": "7bf734b2-8490-4b4f-ec60-2e2750c22189"
      },
      "source": [
        "lista = [3, 2, 1]\n",
        "print(lista)"
      ],
      "execution_count": 38,
      "outputs": [
        {
          "output_type": "stream",
          "text": [
            "[3, 2, 1]\n"
          ],
          "name": "stdout"
        }
      ]
    },
    {
      "cell_type": "markdown",
      "metadata": {
        "id": "c14Zl888KBSK"
      },
      "source": [
        "We can access and index the list by using brackets as well. In order to select an individual element, simply type the list name followed by the index of the item you are looking for in braces."
      ]
    },
    {
      "cell_type": "code",
      "metadata": {
        "id": "kHG103hGKBSK",
        "colab": {
          "base_uri": "https://localhost:8080/"
        },
        "outputId": "3da2b7dc-7473-42dd-bd11-559eb8d3d2e1"
      },
      "source": [
        "print(my_list[0])\n",
        "print(my_list[2])"
      ],
      "execution_count": 39,
      "outputs": [
        {
          "output_type": "stream",
          "text": [
            "1\n",
            "3\n"
          ],
          "name": "stdout"
        }
      ]
    },
    {
      "cell_type": "code",
      "metadata": {
        "id": "3tRDWp55KBSK",
        "colab": {
          "base_uri": "https://localhost:8080/"
        },
        "outputId": "ced9854f-3783-4cce-dfe1-dbab45b5e1cd"
      },
      "source": [
        "print(lista[0])\n",
        "print(lista[1])"
      ],
      "execution_count": 40,
      "outputs": [
        {
          "output_type": "stream",
          "text": [
            "3\n",
            "2\n"
          ],
          "name": "stdout"
        }
      ]
    },
    {
      "cell_type": "markdown",
      "metadata": {
        "id": "Mk_wp9JOKBSL"
      },
      "source": [
        "Indexing in Python starts from $0$. If you have a list of length $n$, the first element of the list is at index $0$, the second element is at index $1$, and so on and so forth. The final element of the list will be at index $n-1$. Be careful! Trying to access a non-existent index will cause an error."
      ]
    },
    {
      "cell_type": "code",
      "metadata": {
        "id": "THvHtxw4KBSL",
        "colab": {
          "base_uri": "https://localhost:8080/",
          "height": 197
        },
        "outputId": "b9b13646-29a0-458a-b0f3-06bdd22a9116"
      },
      "source": [
        "print('The first, second, and third list elements: ', my_list[0], my_list[1], my_list[2])\n",
        "print('Accessing outside the list bounds causes an error: ', my_list[3])"
      ],
      "execution_count": 42,
      "outputs": [
        {
          "output_type": "stream",
          "text": [
            "The first, second, and third list elements:  1 2 3\n"
          ],
          "name": "stdout"
        },
        {
          "output_type": "error",
          "ename": "IndexError",
          "evalue": "ignored",
          "traceback": [
            "\u001b[0;31m---------------------------------------------------------------------------\u001b[0m",
            "\u001b[0;31mIndexError\u001b[0m                                Traceback (most recent call last)",
            "\u001b[0;32m<ipython-input-42-a098d5dd42c3>\u001b[0m in \u001b[0;36m<module>\u001b[0;34m()\u001b[0m\n\u001b[1;32m      1\u001b[0m \u001b[0mprint\u001b[0m\u001b[0;34m(\u001b[0m\u001b[0;34m'The first, second, and third list elements: '\u001b[0m\u001b[0;34m,\u001b[0m \u001b[0mmy_list\u001b[0m\u001b[0;34m[\u001b[0m\u001b[0;36m0\u001b[0m\u001b[0;34m]\u001b[0m\u001b[0;34m,\u001b[0m \u001b[0mmy_list\u001b[0m\u001b[0;34m[\u001b[0m\u001b[0;36m1\u001b[0m\u001b[0;34m]\u001b[0m\u001b[0;34m,\u001b[0m \u001b[0mmy_list\u001b[0m\u001b[0;34m[\u001b[0m\u001b[0;36m2\u001b[0m\u001b[0;34m]\u001b[0m\u001b[0;34m)\u001b[0m\u001b[0;34m\u001b[0m\u001b[0;34m\u001b[0m\u001b[0m\n\u001b[0;32m----> 2\u001b[0;31m \u001b[0mprint\u001b[0m\u001b[0;34m(\u001b[0m\u001b[0;34m'Accessing outside the list bounds causes an error: '\u001b[0m\u001b[0;34m,\u001b[0m \u001b[0mmy_list\u001b[0m\u001b[0;34m[\u001b[0m\u001b[0;36m3\u001b[0m\u001b[0;34m]\u001b[0m\u001b[0;34m)\u001b[0m\u001b[0;34m\u001b[0m\u001b[0;34m\u001b[0m\u001b[0m\n\u001b[0m",
            "\u001b[0;31mIndexError\u001b[0m: list index out of range"
          ]
        }
      ]
    },
    {
      "cell_type": "code",
      "metadata": {
        "id": "-GZQ8jwRKBSL",
        "colab": {
          "base_uri": "https://localhost:8080/",
          "height": 197
        },
        "outputId": "29b7cd8d-628b-4995-9fe4-9f64e07441fd"
      },
      "source": [
        "print('1er 2d0 y 3er elemento: ', lista[0], lista[1], lista[2])\n",
        "print('error fuera de limites: ', lista[3])"
      ],
      "execution_count": 43,
      "outputs": [
        {
          "output_type": "stream",
          "text": [
            "1er 2d0 y 3er elemento:  3 2 1\n"
          ],
          "name": "stdout"
        },
        {
          "output_type": "error",
          "ename": "IndexError",
          "evalue": "ignored",
          "traceback": [
            "\u001b[0;31m---------------------------------------------------------------------------\u001b[0m",
            "\u001b[0;31mIndexError\u001b[0m                                Traceback (most recent call last)",
            "\u001b[0;32m<ipython-input-43-17c59b1be37d>\u001b[0m in \u001b[0;36m<module>\u001b[0;34m()\u001b[0m\n\u001b[1;32m      1\u001b[0m \u001b[0mprint\u001b[0m\u001b[0;34m(\u001b[0m\u001b[0;34m'1er 2d0 y 3er elemento: '\u001b[0m\u001b[0;34m,\u001b[0m \u001b[0mlista\u001b[0m\u001b[0;34m[\u001b[0m\u001b[0;36m0\u001b[0m\u001b[0;34m]\u001b[0m\u001b[0;34m,\u001b[0m \u001b[0mlista\u001b[0m\u001b[0;34m[\u001b[0m\u001b[0;36m1\u001b[0m\u001b[0;34m]\u001b[0m\u001b[0;34m,\u001b[0m \u001b[0mlista\u001b[0m\u001b[0;34m[\u001b[0m\u001b[0;36m2\u001b[0m\u001b[0;34m]\u001b[0m\u001b[0;34m)\u001b[0m\u001b[0;34m\u001b[0m\u001b[0;34m\u001b[0m\u001b[0m\n\u001b[0;32m----> 2\u001b[0;31m \u001b[0mprint\u001b[0m\u001b[0;34m(\u001b[0m\u001b[0;34m'error fuera de limites: '\u001b[0m\u001b[0;34m,\u001b[0m \u001b[0mlista\u001b[0m\u001b[0;34m[\u001b[0m\u001b[0;36m3\u001b[0m\u001b[0;34m]\u001b[0m\u001b[0;34m)\u001b[0m\u001b[0;34m\u001b[0m\u001b[0;34m\u001b[0m\u001b[0m\n\u001b[0m",
            "\u001b[0;31mIndexError\u001b[0m: list index out of range"
          ]
        }
      ]
    },
    {
      "cell_type": "markdown",
      "metadata": {
        "id": "SSPEvYbXKBSL"
      },
      "source": [
        "We can see the number of elements in a list by calling the `len()` function."
      ]
    },
    {
      "cell_type": "code",
      "metadata": {
        "id": "NjCYGLzZKBSL",
        "colab": {
          "base_uri": "https://localhost:8080/"
        },
        "outputId": "42c7ba95-f047-47e4-b398-99cb7cf075e5"
      },
      "source": [
        "print(len(my_list))"
      ],
      "execution_count": 44,
      "outputs": [
        {
          "output_type": "stream",
          "text": [
            "3\n"
          ],
          "name": "stdout"
        }
      ]
    },
    {
      "cell_type": "code",
      "metadata": {
        "id": "SIVMhAkxKBSM",
        "colab": {
          "base_uri": "https://localhost:8080/"
        },
        "outputId": "41721d6b-25a3-44bf-8d54-acfe54b0e4c0"
      },
      "source": [
        "print(len(lista))"
      ],
      "execution_count": 45,
      "outputs": [
        {
          "output_type": "stream",
          "text": [
            "3\n"
          ],
          "name": "stdout"
        }
      ]
    },
    {
      "cell_type": "markdown",
      "metadata": {
        "id": "Be9YSz4YKBSO"
      },
      "source": [
        "We can update and change a list by accessing an index and assigning new value."
      ]
    },
    {
      "cell_type": "code",
      "metadata": {
        "id": "ZKX-2-s2KBSO",
        "colab": {
          "base_uri": "https://localhost:8080/"
        },
        "outputId": "935678a6-9314-4150-b094-00872e91d7a4"
      },
      "source": [
        "print(my_list)\n",
        "my_list[0] = 42\n",
        "print(my_list)"
      ],
      "execution_count": 46,
      "outputs": [
        {
          "output_type": "stream",
          "text": [
            "[1, 2, 3]\n",
            "[42, 2, 3]\n"
          ],
          "name": "stdout"
        }
      ]
    },
    {
      "cell_type": "code",
      "metadata": {
        "id": "bRHHsMSUKBSO",
        "colab": {
          "base_uri": "https://localhost:8080/"
        },
        "outputId": "1d8f2136-ee96-4bac-84ca-80858b2c97ad"
      },
      "source": [
        "print(lista)\n",
        "lista[0] = 42\n",
        "print(lista)"
      ],
      "execution_count": 47,
      "outputs": [
        {
          "output_type": "stream",
          "text": [
            "[3, 2, 1]\n",
            "[42, 2, 1]\n"
          ],
          "name": "stdout"
        }
      ]
    },
    {
      "cell_type": "markdown",
      "metadata": {
        "id": "mK54YjsKKBSP"
      },
      "source": [
        "This is fundamentally different from how strings are handled. A `list` is mutable, meaning that you can change a `list`'s elements without changing the list itself. Some data types, like `strings`, are immutable, meaning you cannot change them at all. Once a `string` or other immutable data type has been created, it cannot be directly modified without creating an entirely new object."
      ]
    },
    {
      "cell_type": "code",
      "metadata": {
        "id": "GBwXaXwMKBSP",
        "colab": {
          "base_uri": "https://localhost:8080/",
          "height": 180
        },
        "outputId": "7be1ddda-511f-4b19-d7cd-bac4629dc772"
      },
      "source": [
        "my_string = \"Strings never change\"\n",
        "my_string[0] = 'Z'"
      ],
      "execution_count": 48,
      "outputs": [
        {
          "output_type": "error",
          "ename": "TypeError",
          "evalue": "ignored",
          "traceback": [
            "\u001b[0;31m---------------------------------------------------------------------------\u001b[0m",
            "\u001b[0;31mTypeError\u001b[0m                                 Traceback (most recent call last)",
            "\u001b[0;32m<ipython-input-48-85065ecd61ab>\u001b[0m in \u001b[0;36m<module>\u001b[0;34m()\u001b[0m\n\u001b[1;32m      1\u001b[0m \u001b[0mmy_string\u001b[0m \u001b[0;34m=\u001b[0m \u001b[0;34m\"Strings never change\"\u001b[0m\u001b[0;34m\u001b[0m\u001b[0;34m\u001b[0m\u001b[0m\n\u001b[0;32m----> 2\u001b[0;31m \u001b[0mmy_string\u001b[0m\u001b[0;34m[\u001b[0m\u001b[0;36m0\u001b[0m\u001b[0;34m]\u001b[0m \u001b[0;34m=\u001b[0m \u001b[0;34m'Z'\u001b[0m\u001b[0;34m\u001b[0m\u001b[0;34m\u001b[0m\u001b[0m\n\u001b[0m",
            "\u001b[0;31mTypeError\u001b[0m: 'str' object does not support item assignment"
          ]
        }
      ]
    },
    {
      "cell_type": "code",
      "metadata": {
        "id": "ZiNsxN_2KBSP",
        "colab": {
          "base_uri": "https://localhost:8080/",
          "height": 180
        },
        "outputId": "0ad3580e-a370-40d3-97ea-d6a0da957c37"
      },
      "source": [
        "cadena = \"Strings never change\"\n",
        "cadena[0] = 'Z'"
      ],
      "execution_count": 49,
      "outputs": [
        {
          "output_type": "error",
          "ename": "TypeError",
          "evalue": "ignored",
          "traceback": [
            "\u001b[0;31m---------------------------------------------------------------------------\u001b[0m",
            "\u001b[0;31mTypeError\u001b[0m                                 Traceback (most recent call last)",
            "\u001b[0;32m<ipython-input-49-671596389fdc>\u001b[0m in \u001b[0;36m<module>\u001b[0;34m()\u001b[0m\n\u001b[1;32m      1\u001b[0m \u001b[0mcadena\u001b[0m \u001b[0;34m=\u001b[0m \u001b[0;34m\"Strings never change\"\u001b[0m\u001b[0;34m\u001b[0m\u001b[0;34m\u001b[0m\u001b[0m\n\u001b[0;32m----> 2\u001b[0;31m \u001b[0mcadena\u001b[0m\u001b[0;34m[\u001b[0m\u001b[0;36m0\u001b[0m\u001b[0;34m]\u001b[0m \u001b[0;34m=\u001b[0m \u001b[0;34m'Z'\u001b[0m\u001b[0;34m\u001b[0m\u001b[0;34m\u001b[0m\u001b[0m\n\u001b[0m",
            "\u001b[0;31mTypeError\u001b[0m: 'str' object does not support item assignment"
          ]
        }
      ]
    },
    {
      "cell_type": "markdown",
      "metadata": {
        "id": "YvKGG4f9KBSP"
      },
      "source": [
        "As we stated before, a list can contain any data type. Thus, lists can also contain strings."
      ]
    },
    {
      "cell_type": "code",
      "metadata": {
        "id": "t_5U5e1qKBSP",
        "colab": {
          "base_uri": "https://localhost:8080/"
        },
        "outputId": "c4f122b0-dcf7-45ca-c1e0-63a1d6503121"
      },
      "source": [
        "my_list_2 = ['one', 'two', 'three']\n",
        "print(my_list_2)"
      ],
      "execution_count": 50,
      "outputs": [
        {
          "output_type": "stream",
          "text": [
            "['one', 'two', 'three']\n"
          ],
          "name": "stdout"
        }
      ]
    },
    {
      "cell_type": "code",
      "metadata": {
        "id": "pTOYBxrZKBSP",
        "colab": {
          "base_uri": "https://localhost:8080/"
        },
        "outputId": "295e331c-03f7-4076-8b92-d00092a65850"
      },
      "source": [
        "lista2 = ['uno', 'dos', 'tres']\n",
        "print(lista2)"
      ],
      "execution_count": 51,
      "outputs": [
        {
          "output_type": "stream",
          "text": [
            "['uno', 'dos', 'tres']\n"
          ],
          "name": "stdout"
        }
      ]
    },
    {
      "cell_type": "markdown",
      "metadata": {
        "id": "zlA6f_SaKBSQ"
      },
      "source": [
        "Lists can also contain multiple different data types at once!"
      ]
    },
    {
      "cell_type": "code",
      "metadata": {
        "id": "lqMyr9CEKBSQ"
      },
      "source": [
        "my_list_3 = [True, 'False', 42]"
      ],
      "execution_count": 52,
      "outputs": []
    },
    {
      "cell_type": "code",
      "metadata": {
        "id": "wh1bygRxKBSQ"
      },
      "source": [
        "lista3 = [False, 'True', 41]"
      ],
      "execution_count": 53,
      "outputs": []
    },
    {
      "cell_type": "markdown",
      "metadata": {
        "id": "_xeJ5VszKBSQ"
      },
      "source": [
        "If you want to put two lists together, they can be combined with a `+` symbol."
      ]
    },
    {
      "cell_type": "code",
      "metadata": {
        "id": "zWzFsUzHKBSQ",
        "colab": {
          "base_uri": "https://localhost:8080/"
        },
        "outputId": "9da61319-2e96-4ac8-e204-d664cbc012c9"
      },
      "source": [
        "my_list_4 = my_list + my_list_2 + my_list_3\n",
        "print(my_list_4)"
      ],
      "execution_count": 54,
      "outputs": [
        {
          "output_type": "stream",
          "text": [
            "[42, 2, 3, 'one', 'two', 'three', True, 'False', 42]\n"
          ],
          "name": "stdout"
        }
      ]
    },
    {
      "cell_type": "code",
      "metadata": {
        "id": "F9H6xcU0KBSQ",
        "colab": {
          "base_uri": "https://localhost:8080/"
        },
        "outputId": "06698a2f-395a-48b6-c53b-508ba3fd4631"
      },
      "source": [
        "lista4 = lista + lista2 + lista3\n",
        "print(lista4)"
      ],
      "execution_count": 55,
      "outputs": [
        {
          "output_type": "stream",
          "text": [
            "[42, 2, 1, 'uno', 'dos', 'tres', False, 'True', 41]\n"
          ],
          "name": "stdout"
        }
      ]
    },
    {
      "cell_type": "markdown",
      "metadata": {
        "id": "E2p1PTivKBSQ"
      },
      "source": [
        "In addition to accessing individual elements of a list, we can access groups of elements through slicing."
      ]
    },
    {
      "cell_type": "code",
      "metadata": {
        "id": "luC01NihKBSQ"
      },
      "source": [
        "my_list = ['friends', 'romans', 'countrymen', 'lend', 'me', 'your', 'ears']"
      ],
      "execution_count": 56,
      "outputs": []
    },
    {
      "cell_type": "code",
      "metadata": {
        "id": "pmnZ8NtHKBSR"
      },
      "source": [
        "lista = ['OPs', 'of', 'anime', 'about', 'shonen', 'watch', 'it']"
      ],
      "execution_count": 57,
      "outputs": []
    },
    {
      "cell_type": "markdown",
      "metadata": {
        "id": "hj2sFXuqKBSR"
      },
      "source": [
        "#### Slicing\n",
        "\n",
        "We use the colon (`:`) to slice lists. "
      ]
    },
    {
      "cell_type": "code",
      "metadata": {
        "scrolled": true,
        "id": "OP2ka6PzKBSR",
        "colab": {
          "base_uri": "https://localhost:8080/"
        },
        "outputId": "535d29ad-0555-42af-a8ab-ed379de76282"
      },
      "source": [
        "print(my_list[2:4])"
      ],
      "execution_count": 58,
      "outputs": [
        {
          "output_type": "stream",
          "text": [
            "['countrymen', 'lend']\n"
          ],
          "name": "stdout"
        }
      ]
    },
    {
      "cell_type": "code",
      "metadata": {
        "scrolled": true,
        "id": "RNCjq0d_KBSR",
        "colab": {
          "base_uri": "https://localhost:8080/"
        },
        "outputId": "830dd6d2-bd82-41db-e27a-af2cf7e99e07"
      },
      "source": [
        "print(lista[2:5])"
      ],
      "execution_count": 59,
      "outputs": [
        {
          "output_type": "stream",
          "text": [
            "['anime', 'about', 'shonen']\n"
          ],
          "name": "stdout"
        }
      ]
    },
    {
      "cell_type": "markdown",
      "metadata": {
        "id": "1TkGaQpSKBSR"
      },
      "source": [
        "Using `:` we can select a group of elements in the list starting from the first element indicated and going up to  (but not including) the last element indicated.\n",
        "\n",
        "We can also select everything after a certain point"
      ]
    },
    {
      "cell_type": "code",
      "metadata": {
        "scrolled": true,
        "id": "mwLNDzZwKBSR",
        "colab": {
          "base_uri": "https://localhost:8080/"
        },
        "outputId": "5dbc0117-ca77-4752-a3d6-e9179cef8882"
      },
      "source": [
        "print(my_list[1:])"
      ],
      "execution_count": 60,
      "outputs": [
        {
          "output_type": "stream",
          "text": [
            "['romans', 'countrymen', 'lend', 'me', 'your', 'ears']\n"
          ],
          "name": "stdout"
        }
      ]
    },
    {
      "cell_type": "code",
      "metadata": {
        "scrolled": true,
        "id": "aNrVi-IEKBSR",
        "colab": {
          "base_uri": "https://localhost:8080/"
        },
        "outputId": "bd7f94d9-64fb-4a85-8a30-337dd25e1ea2"
      },
      "source": [
        "print(lista[1:])"
      ],
      "execution_count": 61,
      "outputs": [
        {
          "output_type": "stream",
          "text": [
            "['of', 'anime', 'about', 'shonen', 'watch', 'it']\n"
          ],
          "name": "stdout"
        }
      ]
    },
    {
      "cell_type": "markdown",
      "metadata": {
        "id": "S5Q3NtINKBSS"
      },
      "source": [
        "And everything before a certain point"
      ]
    },
    {
      "cell_type": "code",
      "metadata": {
        "scrolled": true,
        "id": "Rjauer74KBSS",
        "colab": {
          "base_uri": "https://localhost:8080/"
        },
        "outputId": "ef7d2dba-6e35-44ba-c208-9813a8110c2d"
      },
      "source": [
        "print(my_list[:4])"
      ],
      "execution_count": 62,
      "outputs": [
        {
          "output_type": "stream",
          "text": [
            "['friends', 'romans', 'countrymen', 'lend']\n"
          ],
          "name": "stdout"
        }
      ]
    },
    {
      "cell_type": "code",
      "metadata": {
        "scrolled": true,
        "id": "eM9HR7muKBSS",
        "colab": {
          "base_uri": "https://localhost:8080/"
        },
        "outputId": "0912bcdb-62e9-412a-cc59-9b97b8cfccf7"
      },
      "source": [
        "print(lista[:4])"
      ],
      "execution_count": 63,
      "outputs": [
        {
          "output_type": "stream",
          "text": [
            "['OPs', 'of', 'anime', 'about']\n"
          ],
          "name": "stdout"
        }
      ]
    },
    {
      "cell_type": "markdown",
      "metadata": {
        "id": "3t5deyLOKBSS"
      },
      "source": [
        "Using negative numbers will count from the end of the indices instead of from the beginning. For example, an index of `-1` indicates the last element of the list."
      ]
    },
    {
      "cell_type": "code",
      "metadata": {
        "id": "ERyCpXR6KBSS",
        "colab": {
          "base_uri": "https://localhost:8080/"
        },
        "outputId": "c5e36167-b837-47cd-c9da-84cfd4435490"
      },
      "source": [
        "print(my_list[-1])"
      ],
      "execution_count": 64,
      "outputs": [
        {
          "output_type": "stream",
          "text": [
            "ears\n"
          ],
          "name": "stdout"
        }
      ]
    },
    {
      "cell_type": "code",
      "metadata": {
        "id": "FvzCph92KBSS",
        "colab": {
          "base_uri": "https://localhost:8080/"
        },
        "outputId": "8cddaea0-cc8e-47bd-d4eb-004808e2d602"
      },
      "source": [
        "print(lista[-2])"
      ],
      "execution_count": 65,
      "outputs": [
        {
          "output_type": "stream",
          "text": [
            "watch\n"
          ],
          "name": "stdout"
        }
      ]
    },
    {
      "cell_type": "markdown",
      "metadata": {
        "id": "54e9bQIWKBSS"
      },
      "source": [
        "You can also add a third component to slicing. Instead of simply indicating the first and final parts of your slice, you can specify the step size that you want to take. So instead of taking every single element, you can take every other element."
      ]
    },
    {
      "cell_type": "code",
      "metadata": {
        "id": "DxrL6L64KBSS",
        "colab": {
          "base_uri": "https://localhost:8080/"
        },
        "outputId": "8a403773-9b4b-4b7d-ba85-03ae418e17ad"
      },
      "source": [
        "print(my_list[0:7:2])"
      ],
      "execution_count": 66,
      "outputs": [
        {
          "output_type": "stream",
          "text": [
            "['friends', 'countrymen', 'me', 'ears']\n"
          ],
          "name": "stdout"
        }
      ]
    },
    {
      "cell_type": "code",
      "metadata": {
        "id": "rxBEW-ciKBST",
        "colab": {
          "base_uri": "https://localhost:8080/"
        },
        "outputId": "77270d70-aacd-4572-a106-99add730b09b"
      },
      "source": [
        "print(lista[0:7:3])"
      ],
      "execution_count": 67,
      "outputs": [
        {
          "output_type": "stream",
          "text": [
            "['OPs', 'about', 'it']\n"
          ],
          "name": "stdout"
        }
      ]
    },
    {
      "cell_type": "markdown",
      "metadata": {
        "id": "AYrjDrPPKBST"
      },
      "source": [
        "Here we have selected the entire list (because `0:7` will yield elements `0` through `6`) and we have selected a step size of `2`. So this will spit out element `0` , element `2`, element `4`, and so on through the list element selected. We can skip indicated the beginning and end of our slice, only indicating the step, if we like."
      ]
    },
    {
      "cell_type": "code",
      "metadata": {
        "id": "xaWdpdMTKBST",
        "colab": {
          "base_uri": "https://localhost:8080/"
        },
        "outputId": "620e0c89-364f-4ba6-e830-edb24bbcee12"
      },
      "source": [
        "print(my_list[::2])"
      ],
      "execution_count": 68,
      "outputs": [
        {
          "output_type": "stream",
          "text": [
            "['friends', 'countrymen', 'me', 'ears']\n"
          ],
          "name": "stdout"
        }
      ]
    },
    {
      "cell_type": "code",
      "metadata": {
        "id": "K6Mo--gPKBST",
        "colab": {
          "base_uri": "https://localhost:8080/"
        },
        "outputId": "974169d3-618b-4301-fa01-c03f90a4c950"
      },
      "source": [
        "print(lista[::3])"
      ],
      "execution_count": 69,
      "outputs": [
        {
          "output_type": "stream",
          "text": [
            "['OPs', 'about', 'it']\n"
          ],
          "name": "stdout"
        }
      ]
    },
    {
      "cell_type": "markdown",
      "metadata": {
        "id": "JFre__cKKBST"
      },
      "source": [
        "Lists implictly select the beginning and end of the list when not otherwise specified."
      ]
    },
    {
      "cell_type": "code",
      "metadata": {
        "id": "mk23mfg5KBST",
        "colab": {
          "base_uri": "https://localhost:8080/"
        },
        "outputId": "3b4c3c9d-b99a-4b57-f727-447b57d4a39d"
      },
      "source": [
        "print(my_list[:])"
      ],
      "execution_count": 70,
      "outputs": [
        {
          "output_type": "stream",
          "text": [
            "['friends', 'romans', 'countrymen', 'lend', 'me', 'your', 'ears']\n"
          ],
          "name": "stdout"
        }
      ]
    },
    {
      "cell_type": "code",
      "metadata": {
        "id": "n9FDolRyKBSU",
        "colab": {
          "base_uri": "https://localhost:8080/"
        },
        "outputId": "77723135-1281-450f-c8cd-0770056a4e28"
      },
      "source": [
        "print(lista[:])"
      ],
      "execution_count": 71,
      "outputs": [
        {
          "output_type": "stream",
          "text": [
            "['OPs', 'of', 'anime', 'about', 'shonen', 'watch', 'it']\n"
          ],
          "name": "stdout"
        }
      ]
    },
    {
      "cell_type": "markdown",
      "metadata": {
        "id": "D65Tp3GqKBSU"
      },
      "source": [
        "With a negative step size we can even reverse the list!"
      ]
    },
    {
      "cell_type": "code",
      "metadata": {
        "id": "uCqyS6frKBSU",
        "colab": {
          "base_uri": "https://localhost:8080/"
        },
        "outputId": "d8ed1f56-c12c-435a-a6fe-24b2c2ac0d3d"
      },
      "source": [
        "print(my_list[::-1])"
      ],
      "execution_count": 72,
      "outputs": [
        {
          "output_type": "stream",
          "text": [
            "['ears', 'your', 'me', 'lend', 'countrymen', 'romans', 'friends']\n"
          ],
          "name": "stdout"
        }
      ]
    },
    {
      "cell_type": "code",
      "metadata": {
        "id": "FfFmTPjCKBSU",
        "colab": {
          "base_uri": "https://localhost:8080/"
        },
        "outputId": "65b8c191-79f4-43f2-fb11-6aadaba066ef"
      },
      "source": [
        "print(lista[::-1])"
      ],
      "execution_count": 73,
      "outputs": [
        {
          "output_type": "stream",
          "text": [
            "['it', 'watch', 'shonen', 'about', 'anime', 'of', 'OPs']\n"
          ],
          "name": "stdout"
        }
      ]
    },
    {
      "cell_type": "markdown",
      "metadata": {
        "id": "t6CfqPffKBSU"
      },
      "source": [
        "Python does not have native matrices, but with lists we can produce a working fascimile. Other packages, such as `numpy`, add matrices as a separate data type, but in base Python the best way to create a matrix is to use a list of lists."
      ]
    },
    {
      "cell_type": "markdown",
      "metadata": {
        "id": "rPrFsQcDKBSU"
      },
      "source": [
        "We can also use built-in functions to generate lists. In particular we will look at `range()` (because we will be using it later!). Range can take several different inputs and will return a list."
      ]
    },
    {
      "cell_type": "code",
      "metadata": {
        "id": "X1AiCiWKKBSU",
        "colab": {
          "base_uri": "https://localhost:8080/"
        },
        "outputId": "2ac02253-b0ab-4761-8049-5d64d27d0bc1"
      },
      "source": [
        "b = 10\n",
        "my_list = range(b)\n",
        "print(my_list)"
      ],
      "execution_count": 74,
      "outputs": [
        {
          "output_type": "stream",
          "text": [
            "range(0, 10)\n"
          ],
          "name": "stdout"
        }
      ]
    },
    {
      "cell_type": "code",
      "metadata": {
        "id": "OTkjzUtyKBSV",
        "colab": {
          "base_uri": "https://localhost:8080/"
        },
        "outputId": "3a690c2b-0772-4e95-bbdf-dbeee419d05c"
      },
      "source": [
        "b = 10\n",
        "lista = range(b)\n",
        "print(lista)"
      ],
      "execution_count": 75,
      "outputs": [
        {
          "output_type": "stream",
          "text": [
            "range(0, 10)\n"
          ],
          "name": "stdout"
        }
      ]
    },
    {
      "cell_type": "markdown",
      "metadata": {
        "id": "4LLWXtq8KBSV"
      },
      "source": [
        "Similar to our list-slicing methods from before, we can define both a start and an end for our range. This will return a list that is includes the start and excludes the end, just like a slice."
      ]
    },
    {
      "cell_type": "code",
      "metadata": {
        "id": "KpB7ty44KBSV",
        "colab": {
          "base_uri": "https://localhost:8080/"
        },
        "outputId": "e66ebebd-6a5f-4e95-869c-5e2768221007"
      },
      "source": [
        "a = 0\n",
        "b = 10\n",
        "my_list = range(a, b)\n",
        "print(my_list)"
      ],
      "execution_count": 76,
      "outputs": [
        {
          "output_type": "stream",
          "text": [
            "range(0, 10)\n"
          ],
          "name": "stdout"
        }
      ]
    },
    {
      "cell_type": "code",
      "metadata": {
        "id": "bHgbJmqzKBSV",
        "colab": {
          "base_uri": "https://localhost:8080/"
        },
        "outputId": "dee7e4da-c0a7-4d68-a083-53ed6bbb501f"
      },
      "source": [
        "a = 1\n",
        "b = 10\n",
        "lista = range(a, b)\n",
        "print(lista)"
      ],
      "execution_count": 77,
      "outputs": [
        {
          "output_type": "stream",
          "text": [
            "range(1, 10)\n"
          ],
          "name": "stdout"
        }
      ]
    },
    {
      "cell_type": "markdown",
      "metadata": {
        "id": "XTxO3tcLKBSV"
      },
      "source": [
        "We can also specify a step size. This again has the same behavior as a slice."
      ]
    },
    {
      "cell_type": "code",
      "metadata": {
        "scrolled": true,
        "id": "K6lJQpJyKBSV",
        "colab": {
          "base_uri": "https://localhost:8080/"
        },
        "outputId": "9b463119-655c-4d51-88db-c29dfbaac4b2"
      },
      "source": [
        "a = 0\n",
        "b = 10\n",
        "step = 2\n",
        "my_list = range(a, b, step)\n",
        "print(my_list)"
      ],
      "execution_count": 78,
      "outputs": [
        {
          "output_type": "stream",
          "text": [
            "range(0, 10, 2)\n"
          ],
          "name": "stdout"
        }
      ]
    },
    {
      "cell_type": "code",
      "metadata": {
        "scrolled": true,
        "id": "DqdI6OqYKBSV",
        "colab": {
          "base_uri": "https://localhost:8080/"
        },
        "outputId": "7d2170b1-ec5f-4904-c9e4-86a175e82b74"
      },
      "source": [
        "a = 0\n",
        "b = 10\n",
        "step = 2\n",
        "lista = range(a, b, step)\n",
        "print(lista)"
      ],
      "execution_count": 79,
      "outputs": [
        {
          "output_type": "stream",
          "text": [
            "range(0, 10, 2)\n"
          ],
          "name": "stdout"
        }
      ]
    },
    {
      "cell_type": "markdown",
      "metadata": {
        "id": "wne2dKn7KBSW"
      },
      "source": [
        "### Tuples\n",
        "\n",
        "A `tuple` is a data type similar to a list in that it can hold different kinds of data types. The key difference here is that a `tuple` is immutable. We define a `tuple` by separating the elements we want to include by commas. It is conventional to surround a `tuple` with parentheses."
      ]
    },
    {
      "cell_type": "code",
      "metadata": {
        "id": "1JO5MFeLKBSW",
        "colab": {
          "base_uri": "https://localhost:8080/"
        },
        "outputId": "7355043d-35a7-4214-dad6-c7ad6de47955"
      },
      "source": [
        "my_tuple = 'I', 'have', 30, 'cats'\n",
        "print(my_tuple)"
      ],
      "execution_count": 80,
      "outputs": [
        {
          "output_type": "stream",
          "text": [
            "('I', 'have', 30, 'cats')\n"
          ],
          "name": "stdout"
        }
      ]
    },
    {
      "cell_type": "code",
      "metadata": {
        "id": "thOQAXxXKBSW",
        "colab": {
          "base_uri": "https://localhost:8080/"
        },
        "outputId": "c3452f7e-50e2-41a8-b481-53a1c8337370"
      },
      "source": [
        "tupla = 'I', 'have', 30, 'cats'\n",
        "print(tupla)"
      ],
      "execution_count": 81,
      "outputs": [
        {
          "output_type": "stream",
          "text": [
            "('I', 'have', 30, 'cats')\n"
          ],
          "name": "stdout"
        }
      ]
    },
    {
      "cell_type": "code",
      "metadata": {
        "id": "zOYMXupNKBSW",
        "colab": {
          "base_uri": "https://localhost:8080/"
        },
        "outputId": "c64c7284-2f3b-42cf-fffd-b502cf2ce436"
      },
      "source": [
        "my_tuple = ('I', 'have', 30, 'cats')\n",
        "print(my_tuple)"
      ],
      "execution_count": 82,
      "outputs": [
        {
          "output_type": "stream",
          "text": [
            "('I', 'have', 30, 'cats')\n"
          ],
          "name": "stdout"
        }
      ]
    },
    {
      "cell_type": "code",
      "metadata": {
        "id": "ZuQgMvAkKBSW",
        "colab": {
          "base_uri": "https://localhost:8080/"
        },
        "outputId": "7f01a7c6-0344-4dad-ae7b-16464b0078cf"
      },
      "source": [
        "tupla = ('I', 'have', 30, 'cats')\n",
        "print(tupla)"
      ],
      "execution_count": 83,
      "outputs": [
        {
          "output_type": "stream",
          "text": [
            "('I', 'have', 30, 'cats')\n"
          ],
          "name": "stdout"
        }
      ]
    },
    {
      "cell_type": "markdown",
      "metadata": {
        "id": "hS76U5xjKBSW"
      },
      "source": [
        "As mentioned before, tuples are immutable. You can't change any part of them without defining a new tuple."
      ]
    },
    {
      "cell_type": "code",
      "metadata": {
        "id": "msEmK7vfKBSW",
        "colab": {
          "base_uri": "https://localhost:8080/",
          "height": 163
        },
        "outputId": "c787c58d-23fd-4309-ace9-565ccbe09ff9"
      },
      "source": [
        "my_tuple[3] = 'dogs' # Attempts to change the 'cats' value stored in the the tuple to 'dogs'"
      ],
      "execution_count": 84,
      "outputs": [
        {
          "output_type": "error",
          "ename": "TypeError",
          "evalue": "ignored",
          "traceback": [
            "\u001b[0;31m---------------------------------------------------------------------------\u001b[0m",
            "\u001b[0;31mTypeError\u001b[0m                                 Traceback (most recent call last)",
            "\u001b[0;32m<ipython-input-84-c821a6bdb1a6>\u001b[0m in \u001b[0;36m<module>\u001b[0;34m()\u001b[0m\n\u001b[0;32m----> 1\u001b[0;31m \u001b[0mmy_tuple\u001b[0m\u001b[0;34m[\u001b[0m\u001b[0;36m3\u001b[0m\u001b[0;34m]\u001b[0m \u001b[0;34m=\u001b[0m \u001b[0;34m'dogs'\u001b[0m \u001b[0;31m# Attempts to change the 'cats' value stored in the the tuple to 'dogs'\u001b[0m\u001b[0;34m\u001b[0m\u001b[0;34m\u001b[0m\u001b[0m\n\u001b[0m",
            "\u001b[0;31mTypeError\u001b[0m: 'tuple' object does not support item assignment"
          ]
        }
      ]
    },
    {
      "cell_type": "code",
      "metadata": {
        "id": "uVDEe0JYKBSX",
        "colab": {
          "base_uri": "https://localhost:8080/",
          "height": 163
        },
        "outputId": "daf0df82-215e-4dd3-f55a-dcae147ef341"
      },
      "source": [
        "tupla[3] = 'dogs' # Attempts to change the 'cats' value stored in the the tuple to 'dogs'"
      ],
      "execution_count": 85,
      "outputs": [
        {
          "output_type": "error",
          "ename": "TypeError",
          "evalue": "ignored",
          "traceback": [
            "\u001b[0;31m---------------------------------------------------------------------------\u001b[0m",
            "\u001b[0;31mTypeError\u001b[0m                                 Traceback (most recent call last)",
            "\u001b[0;32m<ipython-input-85-8082c5f70cf6>\u001b[0m in \u001b[0;36m<module>\u001b[0;34m()\u001b[0m\n\u001b[0;32m----> 1\u001b[0;31m \u001b[0mtupla\u001b[0m\u001b[0;34m[\u001b[0m\u001b[0;36m3\u001b[0m\u001b[0;34m]\u001b[0m \u001b[0;34m=\u001b[0m \u001b[0;34m'dogs'\u001b[0m \u001b[0;31m# Attempts to change the 'cats' value stored in the the tuple to 'dogs'\u001b[0m\u001b[0;34m\u001b[0m\u001b[0;34m\u001b[0m\u001b[0m\n\u001b[0m",
            "\u001b[0;31mTypeError\u001b[0m: 'tuple' object does not support item assignment"
          ]
        }
      ]
    },
    {
      "cell_type": "markdown",
      "metadata": {
        "id": "CJyqPY6fKBSX"
      },
      "source": [
        "You can slice tuples the same way that you slice lists!"
      ]
    },
    {
      "cell_type": "code",
      "metadata": {
        "id": "hekJ7_eiKBSX",
        "colab": {
          "base_uri": "https://localhost:8080/"
        },
        "outputId": "396d65b9-d190-4b88-8594-d0f9e97387c6"
      },
      "source": [
        "print(my_tuple[1:3])"
      ],
      "execution_count": 86,
      "outputs": [
        {
          "output_type": "stream",
          "text": [
            "('have', 30)\n"
          ],
          "name": "stdout"
        }
      ]
    },
    {
      "cell_type": "code",
      "metadata": {
        "id": "rrK0QRPPKBSX",
        "colab": {
          "base_uri": "https://localhost:8080/"
        },
        "outputId": "22f13b55-ce6b-4025-dd2d-e030730a0d70"
      },
      "source": [
        "print(tupla[1:3])"
      ],
      "execution_count": 87,
      "outputs": [
        {
          "output_type": "stream",
          "text": [
            "('have', 30)\n"
          ],
          "name": "stdout"
        }
      ]
    },
    {
      "cell_type": "markdown",
      "metadata": {
        "id": "3QEyVliIKBSX"
      },
      "source": [
        "And concatenate them the way that you would with strings!"
      ]
    },
    {
      "cell_type": "code",
      "metadata": {
        "id": "1pWxbpNPKBSX",
        "colab": {
          "base_uri": "https://localhost:8080/"
        },
        "outputId": "6146511d-3a5e-4e23-a00b-3dc6df565fd4"
      },
      "source": [
        "my_other_tuple = ('make', 'that', 50)\n",
        "print(my_tuple + my_other_tuple)"
      ],
      "execution_count": 88,
      "outputs": [
        {
          "output_type": "stream",
          "text": [
            "('I', 'have', 30, 'cats', 'make', 'that', 50)\n"
          ],
          "name": "stdout"
        }
      ]
    },
    {
      "cell_type": "code",
      "metadata": {
        "id": "B5f0uUUQKBSX",
        "colab": {
          "base_uri": "https://localhost:8080/"
        },
        "outputId": "7f75e246-475e-437e-dd2d-178be724d175"
      },
      "source": [
        "tupla1 = ('make', 'that', 50)\n",
        "print(tupla + tupla1)"
      ],
      "execution_count": 89,
      "outputs": [
        {
          "output_type": "stream",
          "text": [
            "('I', 'have', 30, 'cats', 'make', 'that', 50)\n"
          ],
          "name": "stdout"
        }
      ]
    },
    {
      "cell_type": "markdown",
      "metadata": {
        "id": "9ayC2wI_KBSY"
      },
      "source": [
        "We can 'pack' values together, creating a tuple (as above), or we can 'unpack' values from a tuple, taking them out."
      ]
    },
    {
      "cell_type": "code",
      "metadata": {
        "id": "jMqeZbCMKBSY",
        "colab": {
          "base_uri": "https://localhost:8080/"
        },
        "outputId": "08eaa5bc-5944-45be-8ae3-8601f63bbb2c"
      },
      "source": [
        "str_1, str_2, int_1 = my_other_tuple\n",
        "print(str_1, str_2, int_1)"
      ],
      "execution_count": 90,
      "outputs": [
        {
          "output_type": "stream",
          "text": [
            "make that 50\n"
          ],
          "name": "stdout"
        }
      ]
    },
    {
      "cell_type": "code",
      "metadata": {
        "id": "ghEa4cSXKBSY",
        "colab": {
          "base_uri": "https://localhost:8080/"
        },
        "outputId": "5a8e7550-e87d-48c2-f142-b55ac2c9cd6b"
      },
      "source": [
        "string1, string2, entero = tupla1\n",
        "print(string1, string2, entero)"
      ],
      "execution_count": 91,
      "outputs": [
        {
          "output_type": "stream",
          "text": [
            "make that 50\n"
          ],
          "name": "stdout"
        }
      ]
    },
    {
      "cell_type": "markdown",
      "metadata": {
        "id": "nZzRObmKKBSY"
      },
      "source": [
        "Unpacking assigns each value of the tuple in order to each variable on the left hand side of the equals sign. Some functions, including user-defined functions, may return tuples, so we can use this to directly unpack them and access the values that we want."
      ]
    },
    {
      "cell_type": "markdown",
      "metadata": {
        "id": "VSFvn1QvKBSY"
      },
      "source": [
        "### Sets\n",
        "\n",
        "A `set` is a collection of unordered, unique elements. It works almost exactly as you would expect a normal set of things in mathematics to work and is defined using braces (`{}`)."
      ]
    },
    {
      "cell_type": "code",
      "metadata": {
        "id": "GTlb2AM6KBSY",
        "colab": {
          "base_uri": "https://localhost:8080/"
        },
        "outputId": "b9c6bbc9-bf72-4cd1-d0c8-737318be925f"
      },
      "source": [
        "things_i_like = {'dogs', 7, 'the number 4', 4, 4, 4, 42, 'lizards', 'man I just LOVE the number 4'}\n",
        "print(things_i_like, type(things_i_like))"
      ],
      "execution_count": 92,
      "outputs": [
        {
          "output_type": "stream",
          "text": [
            "{'dogs', 'man I just LOVE the number 4', 4, 'the number 4', 7, 42, 'lizards'} <class 'set'>\n"
          ],
          "name": "stdout"
        }
      ]
    },
    {
      "cell_type": "code",
      "metadata": {
        "id": "ECAaaG00KBSY",
        "colab": {
          "base_uri": "https://localhost:8080/"
        },
        "outputId": "53e3e52e-26f7-4bf6-c368-3bfb3bfd21c5"
      },
      "source": [
        "cosas = {'dogs', 7, 'the number 4', 4, 4, 4, 42, 'lizards', 'man I just LOVE the number 4'}\n",
        "print(cosas, type(cosas))"
      ],
      "execution_count": 93,
      "outputs": [
        {
          "output_type": "stream",
          "text": [
            "{'dogs', 'man I just LOVE the number 4', 4, 'the number 4', 7, 42, 'lizards'} <class 'set'>\n"
          ],
          "name": "stdout"
        }
      ]
    },
    {
      "cell_type": "markdown",
      "metadata": {
        "id": "EY5mDGnWKBSZ"
      },
      "source": [
        "Note how any extra instances of the same item are removed in the final set. We can also create a `set` from a list, using the `set()` function."
      ]
    },
    {
      "cell_type": "code",
      "metadata": {
        "id": "BtUUpTCvKBSZ",
        "colab": {
          "base_uri": "https://localhost:8080/"
        },
        "outputId": "04917f76-336f-43e9-82ce-884fb7d75e12"
      },
      "source": [
        "animal_list = ['cats', 'dogs', 'dogs', 'dogs', 'lizards', 'sponges', 'cows', 'bats', 'sponges']\n",
        "animal_set = set(animal_list)\n",
        "print(animal_set) # Removes all extra instances from the list"
      ],
      "execution_count": 94,
      "outputs": [
        {
          "output_type": "stream",
          "text": [
            "{'dogs', 'cats', 'bats', 'lizards', 'sponges', 'cows'}\n"
          ],
          "name": "stdout"
        }
      ]
    },
    {
      "cell_type": "code",
      "metadata": {
        "id": "Ya4qVgqxKBSZ",
        "colab": {
          "base_uri": "https://localhost:8080/"
        },
        "outputId": "d7fa459e-647b-4b4b-fc98-612babe553d1"
      },
      "source": [
        "lista0 = ['cats', 'dogs', 'dogs', 'dogs', 'lizards', 'sponges', 'cows', 'bats', 'sponges']\n",
        "set0 = set(lista0)\n",
        "print(set0)"
      ],
      "execution_count": 95,
      "outputs": [
        {
          "output_type": "stream",
          "text": [
            "{'dogs', 'cats', 'bats', 'lizards', 'sponges', 'cows'}\n"
          ],
          "name": "stdout"
        }
      ]
    },
    {
      "cell_type": "markdown",
      "metadata": {
        "id": "kge8_7qeKBSZ"
      },
      "source": [
        "Calling `len()` on a set will tell you how many elements are in it."
      ]
    },
    {
      "cell_type": "code",
      "metadata": {
        "id": "nwTOvTmUKBSZ",
        "colab": {
          "base_uri": "https://localhost:8080/"
        },
        "outputId": "891239a9-7fc2-4d26-9673-5da601a77615"
      },
      "source": [
        "print(len(animal_set))"
      ],
      "execution_count": 96,
      "outputs": [
        {
          "output_type": "stream",
          "text": [
            "6\n"
          ],
          "name": "stdout"
        }
      ]
    },
    {
      "cell_type": "code",
      "metadata": {
        "id": "sAUGvkuaKBSZ",
        "colab": {
          "base_uri": "https://localhost:8080/"
        },
        "outputId": "2866d52d-bd49-472b-deb7-55c4e7cf821e"
      },
      "source": [
        "print(len(set0))"
      ],
      "execution_count": 97,
      "outputs": [
        {
          "output_type": "stream",
          "text": [
            "6\n"
          ],
          "name": "stdout"
        }
      ]
    },
    {
      "cell_type": "markdown",
      "metadata": {
        "id": "9ZkCKud3KBSZ"
      },
      "source": [
        "Because a `set` is unordered, we can't access individual elements using an index. We can, however, easily check for membership (to see if something is contained in a set) and take the unions and intersections of sets by using the built-in set functions."
      ]
    },
    {
      "cell_type": "code",
      "metadata": {
        "id": "vbXQlp_WKBSZ",
        "colab": {
          "base_uri": "https://localhost:8080/"
        },
        "outputId": "b58d58b5-3808-495b-b460-0b55e9a611d9"
      },
      "source": [
        "'cats' in animal_set # Here we check for membership using the `in` keyword."
      ],
      "execution_count": 98,
      "outputs": [
        {
          "output_type": "execute_result",
          "data": {
            "text/plain": [
              "True"
            ]
          },
          "metadata": {
            "tags": []
          },
          "execution_count": 98
        }
      ]
    },
    {
      "cell_type": "code",
      "metadata": {
        "id": "ENZtf8faKBSa",
        "colab": {
          "base_uri": "https://localhost:8080/"
        },
        "outputId": "71c72252-7933-454f-c18b-5265dfd200ed"
      },
      "source": [
        "'dogs' in set0 # Here we check for membership using the `in` keyword."
      ],
      "execution_count": 99,
      "outputs": [
        {
          "output_type": "execute_result",
          "data": {
            "text/plain": [
              "True"
            ]
          },
          "metadata": {
            "tags": []
          },
          "execution_count": 99
        }
      ]
    },
    {
      "cell_type": "markdown",
      "metadata": {
        "id": "KtXFYRjCKBSa"
      },
      "source": [
        "Here we checked to see whether the string 'cats' was contained within our `animal_set` and it returned `True`, telling us that it is indeed in our set.\n",
        "\n",
        "We can connect sets by using typical mathematical set operators, namely `|`, for union, and `&`, for intersection. Using `|` or `&` will return exactly what you would expect if you are familiar with sets in mathematics."
      ]
    },
    {
      "cell_type": "code",
      "metadata": {
        "id": "sOgLP5coKBSa",
        "colab": {
          "base_uri": "https://localhost:8080/"
        },
        "outputId": "12fcaa0b-8584-4444-957f-2409b582cef3"
      },
      "source": [
        "print(animal_set | things_i_like) # You can also write things_i_like | animal_set with no difference"
      ],
      "execution_count": 100,
      "outputs": [
        {
          "output_type": "stream",
          "text": [
            "{'dogs', 'man I just LOVE the number 4', 'cats', 4, 'bats', 'the number 4', 7, 'lizards', 42, 'sponges', 'cows'}\n"
          ],
          "name": "stdout"
        }
      ]
    },
    {
      "cell_type": "code",
      "metadata": {
        "id": "wpc5AzQpKBSa",
        "colab": {
          "base_uri": "https://localhost:8080/"
        },
        "outputId": "c2cc2de5-dc8d-4987-ae0b-788016ad92b4"
      },
      "source": [
        "print(set0 | cosas) # You can also write things_i_like | animal_set with no difference"
      ],
      "execution_count": 101,
      "outputs": [
        {
          "output_type": "stream",
          "text": [
            "{'dogs', 'man I just LOVE the number 4', 'cats', 4, 'bats', 'the number 4', 7, 'lizards', 42, 'sponges', 'cows'}\n"
          ],
          "name": "stdout"
        }
      ]
    },
    {
      "cell_type": "markdown",
      "metadata": {
        "id": "0xHPm1NiKBSa"
      },
      "source": [
        "Pairing two sets together with `|` combines the sets, removing any repetitions to make every set element unique."
      ]
    },
    {
      "cell_type": "code",
      "metadata": {
        "id": "FIR6IolnKBSa",
        "colab": {
          "base_uri": "https://localhost:8080/"
        },
        "outputId": "6a985f9b-db29-4913-c070-c97bfa4f2492"
      },
      "source": [
        "print(animal_set & things_i_like) # You can also write things_i_like & animal_set with no difference"
      ],
      "execution_count": 102,
      "outputs": [
        {
          "output_type": "stream",
          "text": [
            "{'dogs', 'lizards'}\n"
          ],
          "name": "stdout"
        }
      ]
    },
    {
      "cell_type": "code",
      "metadata": {
        "id": "6lPyNr_8KBSb",
        "colab": {
          "base_uri": "https://localhost:8080/"
        },
        "outputId": "7e5b6bdf-e58a-4265-afa9-b2bf556eab10"
      },
      "source": [
        "print(set0 & cosas) # You can also write things_i_like & animal_set with no difference"
      ],
      "execution_count": 103,
      "outputs": [
        {
          "output_type": "stream",
          "text": [
            "{'dogs', 'lizards'}\n"
          ],
          "name": "stdout"
        }
      ]
    },
    {
      "cell_type": "markdown",
      "metadata": {
        "id": "kpQjntuSKBSb"
      },
      "source": [
        "Pairing two sets together with `&` will calculate the intersection of both sets, returning a set that only contains what they have in common.\n",
        "\n",
        "If you are interested in learning more about the built-in functions for sets, feel free to check out the [documentation](https://docs.python.org/2/library/sets.html)."
      ]
    },
    {
      "cell_type": "markdown",
      "metadata": {
        "id": "TrSAcC-TKBSb"
      },
      "source": [
        "### Dictionaries\n",
        "\n",
        "Another essential data structure in Python is the dictionary. Dictionaries are defined with a combination of curly braces (`{}`) and colons (`:`). The braces define the beginning and end of a dictionary and the colons indicate key-value pairs. A dictionary is essentially a set of key-value pairs. The key of any entry must be an immutable data type. This makes both strings and tuples candidates. Keys can be both added and deleted.\n",
        "\n",
        "In the following example, we have a dictionary composed of key-value pairs where the key is a genre of fiction (`string`) and the value is a list of books (`list`) within that genre. Since a collection is still considered a single entity, we can use one to collect multiple variables or values into one key-value pair."
      ]
    },
    {
      "cell_type": "code",
      "metadata": {
        "id": "tqQ09D9rKBSb"
      },
      "source": [
        "my_dict = {\"High Fantasy\": [\"Wheel of Time\", \"Lord of the Rings\"], \n",
        "           \"Sci-fi\": [\"Book of the New Sun\", \"Neuromancer\", \"Snow Crash\"],\n",
        "           \"Weird Fiction\": [\"At the Mountains of Madness\", \"The House on the Borderland\"]}"
      ],
      "execution_count": 104,
      "outputs": []
    },
    {
      "cell_type": "code",
      "metadata": {
        "id": "6mhlYNa-KBSb"
      },
      "source": [
        "diccion = {\"volka\": [\"BBVA\", \"LOL\"], \n",
        "           \"Sci-fi\": [\"Book of the New Sun\", \"Neuromancer\", \"Snow Crash\"],\n",
        "           \"Weird Fiction\": [\"At the Mountains of Madness\", \"The House on the Borderland\"]}"
      ],
      "execution_count": 105,
      "outputs": []
    },
    {
      "cell_type": "markdown",
      "metadata": {
        "id": "Qx-ht6LlKBSb"
      },
      "source": [
        "After defining a dictionary, we can access any individual value by indicating its key in brackets."
      ]
    },
    {
      "cell_type": "code",
      "metadata": {
        "id": "RHdG2FzzKBSb",
        "colab": {
          "base_uri": "https://localhost:8080/"
        },
        "outputId": "d87114d9-e773-46a5-812c-a2d380f1d319"
      },
      "source": [
        "print(my_dict[\"Sci-fi\"])"
      ],
      "execution_count": 106,
      "outputs": [
        {
          "output_type": "stream",
          "text": [
            "['Book of the New Sun', 'Neuromancer', 'Snow Crash']\n"
          ],
          "name": "stdout"
        }
      ]
    },
    {
      "cell_type": "code",
      "metadata": {
        "id": "ckslR0lpKBSb",
        "colab": {
          "base_uri": "https://localhost:8080/"
        },
        "outputId": "2083e3b8-4ccf-4464-ab67-78ece6de875d"
      },
      "source": [
        "print(diccion[\"Sci-fi\"])"
      ],
      "execution_count": 107,
      "outputs": [
        {
          "output_type": "stream",
          "text": [
            "['Book of the New Sun', 'Neuromancer', 'Snow Crash']\n"
          ],
          "name": "stdout"
        }
      ]
    },
    {
      "cell_type": "markdown",
      "metadata": {
        "id": "6944XHXHKBSc"
      },
      "source": [
        "We can also change the value associated with a given key"
      ]
    },
    {
      "cell_type": "code",
      "metadata": {
        "id": "fcg35HYVKBSc",
        "colab": {
          "base_uri": "https://localhost:8080/"
        },
        "outputId": "c8cabbf2-f1ae-4e91-ad1c-21a7a6486f3b"
      },
      "source": [
        "my_dict[\"Sci-fi\"] = \"I can't read\"\n",
        "print(my_dict[\"Sci-fi\"])"
      ],
      "execution_count": 108,
      "outputs": [
        {
          "output_type": "stream",
          "text": [
            "I can't read\n"
          ],
          "name": "stdout"
        }
      ]
    },
    {
      "cell_type": "code",
      "metadata": {
        "id": "fHad8xeZKBSc",
        "colab": {
          "base_uri": "https://localhost:8080/"
        },
        "outputId": "bfa323c2-f735-4bb3-eee5-111525ada37f"
      },
      "source": [
        "diccion[\"Sci-fi\"] = \"I can't read\"\n",
        "print(diccion[\"Sci-fi\"])"
      ],
      "execution_count": 109,
      "outputs": [
        {
          "output_type": "stream",
          "text": [
            "I can't read\n"
          ],
          "name": "stdout"
        }
      ]
    },
    {
      "cell_type": "markdown",
      "metadata": {
        "id": "MSofiqFLKBSc"
      },
      "source": [
        "Adding a new key-value pair is as simple as defining it."
      ]
    },
    {
      "cell_type": "code",
      "metadata": {
        "id": "_6FU1aWkKBSc",
        "colab": {
          "base_uri": "https://localhost:8080/"
        },
        "outputId": "2f8c7976-ac1b-4247-af09-ac3f0126e7f2"
      },
      "source": [
        "my_dict[\"Historical Fiction\"] = [\"Pillars of the Earth\"]\n",
        "print(my_dict[\"Historical Fiction\"])"
      ],
      "execution_count": 110,
      "outputs": [
        {
          "output_type": "stream",
          "text": [
            "['Pillars of the Earth']\n"
          ],
          "name": "stdout"
        }
      ]
    },
    {
      "cell_type": "code",
      "metadata": {
        "id": "3F-RaK2CKBSc",
        "colab": {
          "base_uri": "https://localhost:8080/"
        },
        "outputId": "00e97412-5f0f-4fa5-a883-bddfa26c5b32"
      },
      "source": [
        "diccion[\"Historical Fiction\"] = [\"Pillars of the Earth\"]\n",
        "print(diccion[\"Historical Fiction\"])"
      ],
      "execution_count": 111,
      "outputs": [
        {
          "output_type": "stream",
          "text": [
            "['Pillars of the Earth']\n"
          ],
          "name": "stdout"
        }
      ]
    },
    {
      "cell_type": "code",
      "metadata": {
        "id": "Z39lR6k9KBSc",
        "colab": {
          "base_uri": "https://localhost:8080/"
        },
        "outputId": "4036b03d-8de0-4f96-a91d-163b7c1ef148"
      },
      "source": [
        "print(my_dict)"
      ],
      "execution_count": 112,
      "outputs": [
        {
          "output_type": "stream",
          "text": [
            "{'High Fantasy': ['Wheel of Time', 'Lord of the Rings'], 'Sci-fi': \"I can't read\", 'Weird Fiction': ['At the Mountains of Madness', 'The House on the Borderland'], 'Historical Fiction': ['Pillars of the Earth']}\n"
          ],
          "name": "stdout"
        }
      ]
    },
    {
      "cell_type": "code",
      "metadata": {
        "id": "AhawiLOMKBSd",
        "colab": {
          "base_uri": "https://localhost:8080/"
        },
        "outputId": "17bcbf81-d1fa-4153-f2c9-34acc5350b05"
      },
      "source": [
        "print(diccion)"
      ],
      "execution_count": 113,
      "outputs": [
        {
          "output_type": "stream",
          "text": [
            "{'volka': ['BBVA', 'LOL'], 'Sci-fi': \"I can't read\", 'Weird Fiction': ['At the Mountains of Madness', 'The House on the Borderland'], 'Historical Fiction': ['Pillars of the Earth']}\n"
          ],
          "name": "stdout"
        }
      ]
    },
    {
      "cell_type": "markdown",
      "metadata": {
        "id": "3QnDoqpjKBSd"
      },
      "source": [
        "## String Shenanigans\n",
        "\n",
        "We already know that strings are generally used for text. We can used built-in operations to combine, split, and format strings easily, depending on our needs.\n",
        "\n",
        "The `+` symbol indicates concatenation in string language. It will combine two strings into a longer string."
      ]
    },
    {
      "cell_type": "code",
      "metadata": {
        "id": "fKjRTXIOKBSd",
        "colab": {
          "base_uri": "https://localhost:8080/"
        },
        "outputId": "a40fabff-dba5-493a-f6ef-fd53a6842b43"
      },
      "source": [
        "first_string = '\"Beware the Jabberwock, my son! /The jaws that bite, the claws that catch! /'\n",
        "second_string = 'Beware the Jubjub bird, and shun /The frumious Bandersnatch!\"/'\n",
        "third_string = first_string + second_string\n",
        "print(third_string)"
      ],
      "execution_count": 114,
      "outputs": [
        {
          "output_type": "stream",
          "text": [
            "\"Beware the Jabberwock, my son! /The jaws that bite, the claws that catch! /Beware the Jubjub bird, and shun /The frumious Bandersnatch!\"/\n"
          ],
          "name": "stdout"
        }
      ]
    },
    {
      "cell_type": "code",
      "metadata": {
        "id": "QihNINUuKBSd",
        "colab": {
          "base_uri": "https://localhost:8080/"
        },
        "outputId": "f16a6265-77df-44ff-88dd-a77116535472"
      },
      "source": [
        "string1 = '\"Beware the Jabberwock, my son! /The jaws that bite, the claws that catch! /'\n",
        "string2 = 'Beware the Jubjub bird, and shun /The frumious Bandersnatch!\"/'\n",
        "string3 = string1 + string2\n",
        "print(string3)"
      ],
      "execution_count": 115,
      "outputs": [
        {
          "output_type": "stream",
          "text": [
            "\"Beware the Jabberwock, my son! /The jaws that bite, the claws that catch! /Beware the Jubjub bird, and shun /The frumious Bandersnatch!\"/\n"
          ],
          "name": "stdout"
        }
      ]
    },
    {
      "cell_type": "markdown",
      "metadata": {
        "id": "6xk-AJaoKBSd"
      },
      "source": [
        "Strings are also indexed much in the same way that lists are."
      ]
    },
    {
      "cell_type": "code",
      "metadata": {
        "id": "oKmzEBCjKBSd",
        "colab": {
          "base_uri": "https://localhost:8080/"
        },
        "outputId": "b7da58de-a2c4-4dc9-f83f-a13fb807ed4c"
      },
      "source": [
        "my_string = 'Supercalifragilisticexpialidocious'\n",
        "print('The first letter is: ', my_string[0]) # Uppercase S\n",
        "print('The last letter is: ', my_string[-1]) # lowercase s\n",
        "print('The second to last letter is: ', my_string[-2]) # lowercase u\n",
        "print('The first five characters are: ', my_string[0:5]) # Remember: slicing doesn't include the final element!\n",
        "print('Reverse it!: ', my_string[::-1])"
      ],
      "execution_count": 116,
      "outputs": [
        {
          "output_type": "stream",
          "text": [
            "The first letter is:  S\n",
            "The last letter is:  s\n",
            "The second to last letter is:  u\n",
            "The first five characters are:  Super\n",
            "Reverse it!:  suoicodilaipxecitsiligarfilacrepuS\n"
          ],
          "name": "stdout"
        }
      ]
    },
    {
      "cell_type": "code",
      "metadata": {
        "id": "-nXIJoKJKBSe",
        "colab": {
          "base_uri": "https://localhost:8080/"
        },
        "outputId": "54f01842-3d72-471e-d1fb-b55f571f4bb2"
      },
      "source": [
        "mi_string = 'Supercalifragilisticexpialidocious'\n",
        "print('The first letter is: ', mi_string[0]) # Uppercase S\n",
        "print('The last letter is: ', mi_string[-1]) # lowercase s\n",
        "print('The second to last letter is: ', mi_string[-2]) # lowercase u\n",
        "print('The first five characters are: ', mi_string[0:5]) # Remember: slicing doesn't include the final element!\n",
        "print('Reverse it!: ', mi_string[::-1])"
      ],
      "execution_count": 117,
      "outputs": [
        {
          "output_type": "stream",
          "text": [
            "The first letter is:  S\n",
            "The last letter is:  s\n",
            "The second to last letter is:  u\n",
            "The first five characters are:  Super\n",
            "Reverse it!:  suoicodilaipxecitsiligarfilacrepuS\n"
          ],
          "name": "stdout"
        }
      ]
    },
    {
      "cell_type": "markdown",
      "metadata": {
        "id": "PjZgNYV7KBSe"
      },
      "source": [
        "Built-in objects and classes often have special functions associated with them that are called methods. We access these methods by using a period ('.'). We will cover objects and their associated methods more in another lecture!\n",
        "\n",
        "Using string methods we can count instances of a character or group of characters."
      ]
    },
    {
      "cell_type": "code",
      "metadata": {
        "scrolled": true,
        "id": "t2kBW7WYKBSe",
        "colab": {
          "base_uri": "https://localhost:8080/"
        },
        "outputId": "a0a8009d-16b3-4cc0-d3dd-87bad2a6c6d6"
      },
      "source": [
        "print('Count of the letter i in Supercalifragilisticexpialidocious: ', my_string.count('i'))\n",
        "print('Count of \"li\" in the same word: ', my_string.count('li'))"
      ],
      "execution_count": 118,
      "outputs": [
        {
          "output_type": "stream",
          "text": [
            "Count of the letter i in Supercalifragilisticexpialidocious:  7\n",
            "Count of \"li\" in the same word:  3\n"
          ],
          "name": "stdout"
        }
      ]
    },
    {
      "cell_type": "code",
      "metadata": {
        "scrolled": true,
        "id": "MimA9Ke4KBSe",
        "colab": {
          "base_uri": "https://localhost:8080/"
        },
        "outputId": "bcfd61a6-12ad-45ba-912b-a174d311eef7"
      },
      "source": [
        "print('Count of the letter i in Supercalifragilisticexpialidocious: ', mi_string.count('i'))\n",
        "print('Count of \"li\" in the same word: ', mi_string.count('li'))"
      ],
      "execution_count": 119,
      "outputs": [
        {
          "output_type": "stream",
          "text": [
            "Count of the letter i in Supercalifragilisticexpialidocious:  7\n",
            "Count of \"li\" in the same word:  3\n"
          ],
          "name": "stdout"
        }
      ]
    },
    {
      "cell_type": "markdown",
      "metadata": {
        "id": "MSPy2j4kKBSe"
      },
      "source": [
        "We can also find the first instance of a character or group of characters in a string."
      ]
    },
    {
      "cell_type": "code",
      "metadata": {
        "id": "Uwr2P7KSKBSe",
        "colab": {
          "base_uri": "https://localhost:8080/"
        },
        "outputId": "3a269900-9f9c-4419-ad02-b012c164aa8d"
      },
      "source": [
        "print('The first time i appears is at index: ', my_string.find('i'))"
      ],
      "execution_count": 120,
      "outputs": [
        {
          "output_type": "stream",
          "text": [
            "The first time i appears is at index:  8\n"
          ],
          "name": "stdout"
        }
      ]
    },
    {
      "cell_type": "code",
      "metadata": {
        "id": "URRwWwq0KBSe",
        "colab": {
          "base_uri": "https://localhost:8080/"
        },
        "outputId": "7b73b188-ffe8-4c84-b84b-28bee84be141"
      },
      "source": [
        "print('The first time i appears is at index: ', mi_string.find('i'))"
      ],
      "execution_count": 121,
      "outputs": [
        {
          "output_type": "stream",
          "text": [
            "The first time i appears is at index:  8\n"
          ],
          "name": "stdout"
        }
      ]
    },
    {
      "cell_type": "markdown",
      "metadata": {
        "id": "iJ3W2BkdKBSf"
      },
      "source": [
        "As well as replace characters in a string."
      ]
    },
    {
      "cell_type": "code",
      "metadata": {
        "id": "LAkxmNfFKBSf",
        "colab": {
          "base_uri": "https://localhost:8080/"
        },
        "outputId": "b275a233-4f07-4c4b-92e8-7c133fceba01"
      },
      "source": [
        "print(\"All i's are now a's: \", my_string.replace('i', 'a'))"
      ],
      "execution_count": 122,
      "outputs": [
        {
          "output_type": "stream",
          "text": [
            "All i's are now a's:  Supercalafragalastacexpaaladocaous\n"
          ],
          "name": "stdout"
        }
      ]
    },
    {
      "cell_type": "code",
      "metadata": {
        "id": "ovNEijn8KBSf",
        "colab": {
          "base_uri": "https://localhost:8080/"
        },
        "outputId": "2d3e6144-bb59-43f5-c560-1dd07779743c"
      },
      "source": [
        "print(\"All i's are now a's: \", mi_string.replace('i', 'a'))"
      ],
      "execution_count": 123,
      "outputs": [
        {
          "output_type": "stream",
          "text": [
            "All i's are now a's:  Supercalafragalastacexpaaladocaous\n"
          ],
          "name": "stdout"
        }
      ]
    },
    {
      "cell_type": "code",
      "metadata": {
        "id": "PXpSPsESKBSf",
        "colab": {
          "base_uri": "https://localhost:8080/"
        },
        "outputId": "f01fb12e-5baa-4137-8f6a-c68fc3d23f79"
      },
      "source": [
        "print(\"It's raining cats and dogs\".replace('dogs', 'more cats'))"
      ],
      "execution_count": 124,
      "outputs": [
        {
          "output_type": "stream",
          "text": [
            "It's raining cats and more cats\n"
          ],
          "name": "stdout"
        }
      ]
    },
    {
      "cell_type": "code",
      "metadata": {
        "id": "LnUd5DtaKBSf",
        "colab": {
          "base_uri": "https://localhost:8080/"
        },
        "outputId": "382f9396-d54a-4c9f-929d-9d01674bcff3"
      },
      "source": [
        "print(\"FC TnT\".replace('dogs', 'more cats'))"
      ],
      "execution_count": 125,
      "outputs": [
        {
          "output_type": "stream",
          "text": [
            "FC TnT\n"
          ],
          "name": "stdout"
        }
      ]
    },
    {
      "cell_type": "markdown",
      "metadata": {
        "id": "oIGrZd6RKBSf"
      },
      "source": [
        "There are also some methods that are unique to strings. The function `upper()` will convert all characters in a string to uppercase, while `lower()` will convert all characters in a string to lowercase!"
      ]
    },
    {
      "cell_type": "code",
      "metadata": {
        "id": "gVwry4-FKBSg",
        "colab": {
          "base_uri": "https://localhost:8080/"
        },
        "outputId": "ded4afb9-0df4-4f3d-edf7-4edd87e655d4"
      },
      "source": [
        "my_string = \"I can't hear you\"\n",
        "print(my_string.upper())\n",
        "my_string = \"I said HELLO\"\n",
        "print(my_string.lower())"
      ],
      "execution_count": 126,
      "outputs": [
        {
          "output_type": "stream",
          "text": [
            "I CAN'T HEAR YOU\n",
            "i said hello\n"
          ],
          "name": "stdout"
        }
      ]
    },
    {
      "cell_type": "code",
      "metadata": {
        "id": "PGU_3fzCKBSg",
        "colab": {
          "base_uri": "https://localhost:8080/"
        },
        "outputId": "9e941872-d8d7-44da-d9d2-649502e5c30a"
      },
      "source": [
        "mi_string = \"I can't hear you\"\n",
        "print(mi_string.upper())\n",
        "mi_string = \"I said HELLO\"\n",
        "print(mi_string.lower())"
      ],
      "execution_count": 127,
      "outputs": [
        {
          "output_type": "stream",
          "text": [
            "I CAN'T HEAR YOU\n",
            "i said hello\n"
          ],
          "name": "stdout"
        }
      ]
    },
    {
      "cell_type": "markdown",
      "metadata": {
        "id": "C-22qUydKBSg"
      },
      "source": [
        "### String Formatting\n",
        "\n",
        "Using the `format()` method we can add in variable values and generally format our strings."
      ]
    },
    {
      "cell_type": "code",
      "metadata": {
        "id": "SwwunycUKBSg",
        "colab": {
          "base_uri": "https://localhost:8080/"
        },
        "outputId": "92c5d5e1-fa42-4045-ea42-b98bb5f057d4"
      },
      "source": [
        "my_string = \"{0} {1}\".format('Marco', 'Polo')\n",
        "print(my_string)"
      ],
      "execution_count": 128,
      "outputs": [
        {
          "output_type": "stream",
          "text": [
            "Marco Polo\n"
          ],
          "name": "stdout"
        }
      ]
    },
    {
      "cell_type": "code",
      "metadata": {
        "id": "z5dsKjw7KBSg",
        "colab": {
          "base_uri": "https://localhost:8080/"
        },
        "outputId": "8e614cb8-2c9e-4b54-fb67-94e9dd4a80d8"
      },
      "source": [
        "mi_string = \"{0} {1}\".format('ying', 'yang')\n",
        "print(mi_string)"
      ],
      "execution_count": 129,
      "outputs": [
        {
          "output_type": "stream",
          "text": [
            "ying yang\n"
          ],
          "name": "stdout"
        }
      ]
    },
    {
      "cell_type": "code",
      "metadata": {
        "id": "HZADFmEEKBSg",
        "colab": {
          "base_uri": "https://localhost:8080/"
        },
        "outputId": "df01a0e9-4ae1-42a9-b4cd-b476efff8b2f"
      },
      "source": [
        "my_string = \"{1} {0}\".format('Marco', 'Polo')\n",
        "print(my_string)"
      ],
      "execution_count": 130,
      "outputs": [
        {
          "output_type": "stream",
          "text": [
            "Polo Marco\n"
          ],
          "name": "stdout"
        }
      ]
    },
    {
      "cell_type": "code",
      "metadata": {
        "id": "dV36vDq3KBSh",
        "colab": {
          "base_uri": "https://localhost:8080/"
        },
        "outputId": "0da3e328-1010-4fff-b791-ff4cdaa41e09"
      },
      "source": [
        "mi_string = \"{1} {0}\".format('ying', 'yang')\n",
        "print(mi_string)"
      ],
      "execution_count": 131,
      "outputs": [
        {
          "output_type": "stream",
          "text": [
            "yang ying\n"
          ],
          "name": "stdout"
        }
      ]
    },
    {
      "cell_type": "markdown",
      "metadata": {
        "id": "cMhVw7sWKBSh"
      },
      "source": [
        "We use braces (`{}`) to indicate parts of the string that will be filled in later and we use the arguments of the `format()` function to provide the values to substitute. The numbers within the braces indicate the index of the value in the `format()` arguments."
      ]
    },
    {
      "cell_type": "markdown",
      "metadata": {
        "id": "Yns19_2JKBSh"
      },
      "source": [
        "See the `format()` [documentation](https://docs.python.org/2/library/string.html#format-examples) for additional examples."
      ]
    },
    {
      "cell_type": "markdown",
      "metadata": {
        "id": "sGnzIVS5KBSh"
      },
      "source": [
        "If you need some quick and dirty formatting, you can instead use the `%` symbol, called the string formatting operator. "
      ]
    },
    {
      "cell_type": "code",
      "metadata": {
        "id": "boGYgSU5KBSh",
        "colab": {
          "base_uri": "https://localhost:8080/"
        },
        "outputId": "3afe7fcd-6e7f-4b02-9ef2-043c49754f54"
      },
      "source": [
        "print('insert %s here' % 'value')"
      ],
      "execution_count": 132,
      "outputs": [
        {
          "output_type": "stream",
          "text": [
            "insert value here\n"
          ],
          "name": "stdout"
        }
      ]
    },
    {
      "cell_type": "code",
      "metadata": {
        "id": "GPrctbsUKBSh",
        "colab": {
          "base_uri": "https://localhost:8080/"
        },
        "outputId": "5d1d6f5f-d741-470c-8405-bc440c59c487"
      },
      "source": [
        "print('inserte %s aqui' % 'valor')"
      ],
      "execution_count": 133,
      "outputs": [
        {
          "output_type": "stream",
          "text": [
            "inserte valor aqui\n"
          ],
          "name": "stdout"
        }
      ]
    },
    {
      "cell_type": "markdown",
      "metadata": {
        "id": "W02CdFg8KBSi"
      },
      "source": [
        "The `%` symbol basically cues Python to create a placeholder. Whatever character follows the `%` (in the string) indicates what sort of type the value put into the placeholder will have. This character is called a *conversion type*. Once the string has been closed, we need another `%` that will be followed by the values to insert. In the case of one value, you can just put it there. If you are inserting more than one value, they must be enclosed in a tuple."
      ]
    },
    {
      "cell_type": "code",
      "metadata": {
        "id": "tU1rDjcuKBSi",
        "colab": {
          "base_uri": "https://localhost:8080/"
        },
        "outputId": "54b9ccf5-2e91-4245-ef85-dc28265e8ef8"
      },
      "source": [
        "print('There are %s cats in my %s' % (13, 'apartment'))"
      ],
      "execution_count": 134,
      "outputs": [
        {
          "output_type": "stream",
          "text": [
            "There are 13 cats in my apartment\n"
          ],
          "name": "stdout"
        }
      ]
    },
    {
      "cell_type": "code",
      "metadata": {
        "id": "NQXslHCFKBSi",
        "colab": {
          "base_uri": "https://localhost:8080/"
        },
        "outputId": "c05c0f96-0a38-42f7-f849-e7c7a60b9298"
      },
      "source": [
        "print('hay %s neuronas en mi %s' % (13, 'cabeza'))"
      ],
      "execution_count": 135,
      "outputs": [
        {
          "output_type": "stream",
          "text": [
            "hay 13 neuronas en mi cabeza\n"
          ],
          "name": "stdout"
        }
      ]
    },
    {
      "cell_type": "markdown",
      "metadata": {
        "id": "ypqsEPr-KBSi"
      },
      "source": [
        "In these examples, the `%s` indicates that Python should convert the values into strings. There are multiple conversion types that you can use to get more specific with the the formatting. See the string formatting [documentation](https://docs.python.org/2/library/stdtypes.html#string-formatting) for additional examples and more complete details on use."
      ]
    },
    {
      "cell_type": "markdown",
      "metadata": {
        "id": "zr4-WAWTKBSi"
      },
      "source": [
        "## Logical Operators\n",
        "### Basic Logic\n",
        "\n",
        "Logical operators deal with `boolean` values, as we briefly covered before. If you recall, a `bool` takes on one of two values, `True` or `False` (or $1$ or $0$). The basic logical statements that we can make are defined using the built-in comparators. These are `==` (equal), `!=` (not equal), `<` (less than), `>` (greater than), `<=` (less than or equal to), and `>=` (greater than or equal to)."
      ]
    },
    {
      "cell_type": "code",
      "metadata": {
        "id": "tqxRSXvZKBSi",
        "colab": {
          "base_uri": "https://localhost:8080/"
        },
        "outputId": "838bdcc2-5680-41cf-ea49-29f0464c76cf"
      },
      "source": [
        "print(5 == 5)"
      ],
      "execution_count": 136,
      "outputs": [
        {
          "output_type": "stream",
          "text": [
            "True\n"
          ],
          "name": "stdout"
        }
      ]
    },
    {
      "cell_type": "code",
      "metadata": {
        "id": "AaJSvKtBKBSi",
        "colab": {
          "base_uri": "https://localhost:8080/"
        },
        "outputId": "7009ed4f-625a-4c90-d55c-71cfd603036c"
      },
      "source": [
        "print(7 == 7)"
      ],
      "execution_count": 137,
      "outputs": [
        {
          "output_type": "stream",
          "text": [
            "True\n"
          ],
          "name": "stdout"
        }
      ]
    },
    {
      "cell_type": "code",
      "metadata": {
        "id": "gLwgfDYyKBSj",
        "colab": {
          "base_uri": "https://localhost:8080/"
        },
        "outputId": "dbc1b2fa-2614-44db-ffa7-7240c8599f42"
      },
      "source": [
        "print(5 > 5)"
      ],
      "execution_count": 138,
      "outputs": [
        {
          "output_type": "stream",
          "text": [
            "False\n"
          ],
          "name": "stdout"
        }
      ]
    },
    {
      "cell_type": "code",
      "metadata": {
        "id": "uEMeY--JKBSj",
        "colab": {
          "base_uri": "https://localhost:8080/"
        },
        "outputId": "2b47af18-ef0a-436c-ee7f-76d3cb06a6f1"
      },
      "source": [
        "print(7 > 7)"
      ],
      "execution_count": 139,
      "outputs": [
        {
          "output_type": "stream",
          "text": [
            "False\n"
          ],
          "name": "stdout"
        }
      ]
    },
    {
      "cell_type": "markdown",
      "metadata": {
        "id": "UNScq-OUKBSj"
      },
      "source": [
        "These comparators also work in conjunction with variables."
      ]
    },
    {
      "cell_type": "code",
      "metadata": {
        "id": "Bht6WkVWKBSj",
        "colab": {
          "base_uri": "https://localhost:8080/"
        },
        "outputId": "56cf0633-eadb-4b72-bcdb-7a8ac5d6ab16"
      },
      "source": [
        "m = 2\n",
        "n = 23\n",
        "print(m < n)"
      ],
      "execution_count": 140,
      "outputs": [
        {
          "output_type": "stream",
          "text": [
            "True\n"
          ],
          "name": "stdout"
        }
      ]
    },
    {
      "cell_type": "code",
      "metadata": {
        "id": "BlDmsB6WKBSk",
        "colab": {
          "base_uri": "https://localhost:8080/"
        },
        "outputId": "263d6763-83d2-453f-d4af-3bc8fc80692b"
      },
      "source": [
        "m = 98\n",
        "n = 124\n",
        "print(m < n)"
      ],
      "execution_count": 141,
      "outputs": [
        {
          "output_type": "stream",
          "text": [
            "True\n"
          ],
          "name": "stdout"
        }
      ]
    },
    {
      "cell_type": "markdown",
      "metadata": {
        "id": "feOcPn-0KBSk"
      },
      "source": [
        "We can string these comparators together to make more complex logical statements using the logical operators `or`, `and`, and `not`. "
      ]
    },
    {
      "cell_type": "code",
      "metadata": {
        "id": "reVOZadPKBSk",
        "colab": {
          "base_uri": "https://localhost:8080/"
        },
        "outputId": "17b441e3-c844-4bd7-80bd-5483ccd5ba4b"
      },
      "source": [
        "statement_1 = 10 > 2\n",
        "statement_2 = 4 <= 6\n",
        "print(\"Statement 1 truth value: {0}\".format(statement_1))\n",
        "print(\"Statement 2 truth value: {0}\".format(statement_2))\n",
        "print(\"Statement 1 and Statement 2: {0}\".format(statement_1 and statement_2))"
      ],
      "execution_count": 142,
      "outputs": [
        {
          "output_type": "stream",
          "text": [
            "Statement 1 truth value: True\n",
            "Statement 2 truth value: True\n",
            "Statement 1 and Statement 2: True\n"
          ],
          "name": "stdout"
        }
      ]
    },
    {
      "cell_type": "code",
      "metadata": {
        "id": "rGKZQLnYKBSk",
        "colab": {
          "base_uri": "https://localhost:8080/"
        },
        "outputId": "42ebcbdd-8dc8-45e9-ec66-8c684711d7e6"
      },
      "source": [
        "estado1 = 56 > 126\n",
        "estado2 = 9 <= 3\n",
        "print(\"Statement 1 truth value: {0}\".format(estado1))\n",
        "print(\"Statement 2 truth value: {0}\".format(estado2))\n",
        "print(\"Statement 1 and Statement 2: {0}\".format(estado1 and estado2))"
      ],
      "execution_count": 143,
      "outputs": [
        {
          "output_type": "stream",
          "text": [
            "Statement 1 truth value: False\n",
            "Statement 2 truth value: False\n",
            "Statement 1 and Statement 2: False\n"
          ],
          "name": "stdout"
        }
      ]
    },
    {
      "cell_type": "markdown",
      "metadata": {
        "id": "B0fm9uAhKBSk"
      },
      "source": [
        "The `or` operator performs a logical `or` calculation. This is an inclusive `or`, so if either component paired together by `or` is `True`, the whole statement will be `True`. The `and` statement only outputs `True` if all components that are `and`ed together are True. Otherwise it will output `False`. The `not` statement simply inverts the truth value of whichever statement follows it. So a `True` statement will be evaluated as `False` when a `not` is placed in front of it. Similarly, a `False` statement will become `True` when a `not` is in front of it.\n",
        "\n",
        "Say that we have two logical statements, or assertions, $P$ and $Q$. The truth table for the basic logical operators is as follows:\n",
        "\n",
        "|  P  |  Q  | `not` P| P `and` Q | P `or` Q|\n",
        "|:-----:|:-----:|:---:|:---:|:---:|\n",
        "| `True` | `True` | `False` | `True` | `True` |\n",
        "| `False` | `True` | `True` | `False` | `True` |\n",
        "| `True` | `False` | `False` | `False` | `True` |\n",
        "| `False` | `False` | `True` | `False` | `False` |\n",
        "\n",
        "We can string multiple logical statements together using the logical operators."
      ]
    },
    {
      "cell_type": "code",
      "metadata": {
        "id": "JSVzxmiIKBSk",
        "colab": {
          "base_uri": "https://localhost:8080/"
        },
        "outputId": "b3fea26b-e278-40aa-d60d-b1e99f2e1129"
      },
      "source": [
        "print((2 < 3) and (3 > 0)) or ((5 > 6) and not (4 < 2))"
      ],
      "execution_count": 144,
      "outputs": [
        {
          "output_type": "stream",
          "text": [
            "True\n"
          ],
          "name": "stdout"
        },
        {
          "output_type": "execute_result",
          "data": {
            "text/plain": [
              "False"
            ]
          },
          "metadata": {
            "tags": []
          },
          "execution_count": 144
        }
      ]
    },
    {
      "cell_type": "code",
      "metadata": {
        "id": "oki_OctzKBSl",
        "colab": {
          "base_uri": "https://localhost:8080/"
        },
        "outputId": "3bc7c8a9-3636-460d-d54f-ecff29d4b220"
      },
      "source": [
        "print((4 < 9) and (0 > 7)) or ((5 > 8) and not (2 < 1))"
      ],
      "execution_count": 145,
      "outputs": [
        {
          "output_type": "stream",
          "text": [
            "False\n"
          ],
          "name": "stdout"
        },
        {
          "output_type": "execute_result",
          "data": {
            "text/plain": [
              "False"
            ]
          },
          "metadata": {
            "tags": []
          },
          "execution_count": 145
        }
      ]
    },
    {
      "cell_type": "markdown",
      "metadata": {
        "id": "qs4pxc5LKBSl"
      },
      "source": [
        "Logical statements can be as simple or complex as we like, depending on what we need to express. Evaluating the above logical statement step by step we see that we are evaluating (`True and True`) `or` (`False and not False`). This becomes `True or (False and True`), subsequently becoming `True or False`, ultimately being evaluated as `True`."
      ]
    },
    {
      "cell_type": "markdown",
      "metadata": {
        "id": "wCaV3XA1KBSl"
      },
      "source": [
        "#### Truthiness\n",
        "\n",
        "Data types in Python have a fun characteristic called truthiness. What this means is that most built-in types will evaluate as either `True` or `False` when a boolean value is needed (such as with an if-statement). As a general rule, containers like strings, tuples, dictionaries, lists, and sets, will return `True` if they contain anything at all and `False` if they contain nothing."
      ]
    },
    {
      "cell_type": "code",
      "metadata": {
        "id": "y3QFIiL3KBSl",
        "colab": {
          "base_uri": "https://localhost:8080/"
        },
        "outputId": "30502eb0-42c0-4a65-c1de-3b81319f459a"
      },
      "source": [
        "# Similar to how float() and int() work, bool() forces a value to be considered a boolean!\n",
        "print(bool(''))"
      ],
      "execution_count": 146,
      "outputs": [
        {
          "output_type": "stream",
          "text": [
            "False\n"
          ],
          "name": "stdout"
        }
      ]
    },
    {
      "cell_type": "code",
      "metadata": {
        "id": "fWQLvRt5KBSl",
        "colab": {
          "base_uri": "https://localhost:8080/"
        },
        "outputId": "2abc02a2-125f-44be-db74-7f33e3b03bff"
      },
      "source": [
        "# ñero un booleano\n",
        "print(bool(\"\"))"
      ],
      "execution_count": 147,
      "outputs": [
        {
          "output_type": "stream",
          "text": [
            "False\n"
          ],
          "name": "stdout"
        }
      ]
    },
    {
      "cell_type": "code",
      "metadata": {
        "id": "zNoI9lFjKBSl",
        "colab": {
          "base_uri": "https://localhost:8080/"
        },
        "outputId": "15702a48-0c02-4862-cf48-6b14cab43f81"
      },
      "source": [
        "print(bool('I have character!'))"
      ],
      "execution_count": 148,
      "outputs": [
        {
          "output_type": "stream",
          "text": [
            "True\n"
          ],
          "name": "stdout"
        }
      ]
    },
    {
      "cell_type": "code",
      "metadata": {
        "id": "ARaGi2NWKBSl",
        "colab": {
          "base_uri": "https://localhost:8080/"
        },
        "outputId": "d6631121-4bf7-4e87-ca21-ba6a0a57f612"
      },
      "source": [
        "print(bool('mireme esos caracterers papá'))"
      ],
      "execution_count": 149,
      "outputs": [
        {
          "output_type": "stream",
          "text": [
            "True\n"
          ],
          "name": "stdout"
        }
      ]
    },
    {
      "cell_type": "code",
      "metadata": {
        "id": "BxLvNQ4ZKBSm",
        "colab": {
          "base_uri": "https://localhost:8080/"
        },
        "outputId": "40dfe4db-756d-416c-b977-f63703b9e9ba"
      },
      "source": [
        "print(bool([]))"
      ],
      "execution_count": 150,
      "outputs": [
        {
          "output_type": "stream",
          "text": [
            "False\n"
          ],
          "name": "stdout"
        }
      ]
    },
    {
      "cell_type": "code",
      "metadata": {
        "id": "4bWkVX_nKBSm",
        "colab": {
          "base_uri": "https://localhost:8080/"
        },
        "outputId": "8f9a0095-cb67-4bdc-a1e2-190a941faaf8"
      },
      "source": [
        "print(bool({}))#repropio"
      ],
      "execution_count": 151,
      "outputs": [
        {
          "output_type": "stream",
          "text": [
            "False\n"
          ],
          "name": "stdout"
        }
      ]
    },
    {
      "cell_type": "code",
      "metadata": {
        "id": "1q3bbmkGKBSm",
        "colab": {
          "base_uri": "https://localhost:8080/"
        },
        "outputId": "1d3a1b73-3562-4ce6-a6fa-730c283b2982"
      },
      "source": [
        "print(bool([1, 2, 3]))"
      ],
      "execution_count": 152,
      "outputs": [
        {
          "output_type": "stream",
          "text": [
            "True\n"
          ],
          "name": "stdout"
        }
      ]
    },
    {
      "cell_type": "code",
      "metadata": {
        "id": "vl_elVGVKBSm",
        "colab": {
          "base_uri": "https://localhost:8080/"
        },
        "outputId": "8d7067d8-a961-4607-dd4e-21e6340b5443"
      },
      "source": [
        "print(bool([3, 2, 1]))"
      ],
      "execution_count": 153,
      "outputs": [
        {
          "output_type": "stream",
          "text": [
            "True\n"
          ],
          "name": "stdout"
        }
      ]
    },
    {
      "cell_type": "markdown",
      "metadata": {
        "id": "wB_iKgarKBSm"
      },
      "source": [
        "And so on, for the other collections and containers. `None` also evaluates as `False`. The number `1` is equivalent to `True` and the number `0` is equivalent to `False` as well, in a boolean context."
      ]
    },
    {
      "cell_type": "markdown",
      "metadata": {
        "id": "w7zsOVeBKBSm"
      },
      "source": [
        "### If-statements\n",
        "\n",
        "We can create segments of code that only execute if a set of conditions is met. We use if-statements in conjunction with logical statements in order to create branches in our code. \n",
        "\n",
        "An `if` block gets entered when the condition is considered to be `True`. If condition is evaluated as `False`, the `if` block will simply be skipped unless there is an `else` block to accompany it. Conditions are made using either logical operators or by using the truthiness of values in Python. An if-statement is defined with a colon and a block of indented text."
      ]
    },
    {
      "cell_type": "code",
      "metadata": {
        "id": "Oo8jLGQ1KBSn",
        "colab": {
          "base_uri": "https://localhost:8080/"
        },
        "outputId": "7488ca2e-9ccd-4205-d6f3-d463aca6c9dc"
      },
      "source": [
        "# This is the basic format of an if statement. This is a vacuous example. \n",
        "# The string \"Condition\" will always evaluated as True because it is a\n",
        "# non-empty string. he purpose of this code is to show the formatting of\n",
        "# an if-statement.\n",
        "if \"Condition\": \n",
        "    # This block of code will execute because the string is non-empty\n",
        "    # Everything on these indented lines\n",
        "    print(True)\n",
        "else:\n",
        "    # So if the condition that we examined with if is in fact False\n",
        "    # This block of code will execute INSTEAD of the first block of code\n",
        "    # Everything on these indented lines\n",
        "    print(False)\n",
        "# The else block here will never execute because \"Condition\" is a non-empty string."
      ],
      "execution_count": 154,
      "outputs": [
        {
          "output_type": "stream",
          "text": [
            "True\n"
          ],
          "name": "stdout"
        }
      ]
    },
    {
      "cell_type": "code",
      "metadata": {
        "id": "GtabLc_IKBSn",
        "colab": {
          "base_uri": "https://localhost:8080/"
        },
        "outputId": "28eaed75-84b4-4e55-e44e-baa012fc65c1"
      },
      "source": [
        "# decisones ... cada dia \n",
        "if \"Condition\": \n",
        "    print(True)\n",
        "else:\n",
        "\n",
        "    print(False)"
      ],
      "execution_count": 155,
      "outputs": [
        {
          "output_type": "stream",
          "text": [
            "True\n"
          ],
          "name": "stdout"
        }
      ]
    },
    {
      "cell_type": "code",
      "metadata": {
        "id": "4Iilh6spKBSn"
      },
      "source": [
        "i = 4\n",
        "if i == 5:\n",
        "    print('The variable i has a value of 5')"
      ],
      "execution_count": 156,
      "outputs": []
    },
    {
      "cell_type": "code",
      "metadata": {
        "id": "IYqgjTNUKBSn"
      },
      "source": [
        "o = 3\n",
        "if o == 5:\n",
        "    print('The variable i has a value of 5')"
      ],
      "execution_count": 157,
      "outputs": []
    },
    {
      "cell_type": "markdown",
      "metadata": {
        "id": "-6kNsycvKBSn"
      },
      "source": [
        "Because in this example `i = 4` and the if-statement is only looking for whether `i` is equal to `5`, the printstatement will never be executed. We can add in an `else` statement to create a contingency block of code in case the condition in the if-statement is not evaluated as `True`."
      ]
    },
    {
      "cell_type": "code",
      "metadata": {
        "id": "A30lwxiAKBSn",
        "colab": {
          "base_uri": "https://localhost:8080/"
        },
        "outputId": "fed98392-f0b7-4060-a309-a074e56229e4"
      },
      "source": [
        "i = 4\n",
        "if i == 5:\n",
        "    print(\"All lines in this indented block are part of this block\")\n",
        "    print('The variable i has a value of 5')\n",
        "else:\n",
        "    print(\"All lines in this indented block are part of this block\")\n",
        "    print('The variable i is not equal to 5')"
      ],
      "execution_count": 158,
      "outputs": [
        {
          "output_type": "stream",
          "text": [
            "All lines in this indented block are part of this block\n",
            "The variable i is not equal to 5\n"
          ],
          "name": "stdout"
        }
      ]
    },
    {
      "cell_type": "code",
      "metadata": {
        "id": "RppHYRIgKBSn",
        "colab": {
          "base_uri": "https://localhost:8080/"
        },
        "outputId": "df9ccf94-1c36-41f8-a024-6318253db10f"
      },
      "source": [
        "o = 3\n",
        "if o == 5:\n",
        "    print('The variable i has a value of 5')\n",
        "else:\n",
        "    print('The variable i is not equal to 5')"
      ],
      "execution_count": 159,
      "outputs": [
        {
          "output_type": "stream",
          "text": [
            "The variable i is not equal to 5\n"
          ],
          "name": "stdout"
        }
      ]
    },
    {
      "cell_type": "markdown",
      "metadata": {
        "id": "CKb8hpCvKBSo"
      },
      "source": [
        "We can implement other branches off of the same if-statement by using `elif`, an abbreviation of \"else if\". We can include as many `elifs` as we like until we have exhausted all the logical branches of a condition."
      ]
    },
    {
      "cell_type": "code",
      "metadata": {
        "id": "jviqKQzlKBSo",
        "colab": {
          "base_uri": "https://localhost:8080/"
        },
        "outputId": "cbb61434-4e75-4fb0-ecf7-59e020467bc0"
      },
      "source": [
        "i = 1\n",
        "if i == 1:\n",
        "    print('The variable i has a value of 1')\n",
        "elif i == 2:\n",
        "    print('The variable i has a value of 2')\n",
        "elif i == 3:\n",
        "    print('The variable i has a value of 3')\n",
        "else:\n",
        "    print(\"I don't care what i is\")"
      ],
      "execution_count": 160,
      "outputs": [
        {
          "output_type": "stream",
          "text": [
            "The variable i has a value of 1\n"
          ],
          "name": "stdout"
        }
      ]
    },
    {
      "cell_type": "code",
      "metadata": {
        "id": "ZxGE0t2yKBSo",
        "colab": {
          "base_uri": "https://localhost:8080/"
        },
        "outputId": "eed7181e-4766-478d-a6c5-7257e5ba317a"
      },
      "source": [
        "o = 100000000\n",
        "if o == 10:\n",
        "    print('The variable i has a value of 10')\n",
        "elif o == 100:\n",
        "    print('The variable i has a value of 100')\n",
        "elif o == 1000:\n",
        "    print('The variable i has a value of 1000')\n",
        "else:\n",
        "    print(\"I don't care what i is\")"
      ],
      "execution_count": 161,
      "outputs": [
        {
          "output_type": "stream",
          "text": [
            "I don't care what i is\n"
          ],
          "name": "stdout"
        }
      ]
    },
    {
      "cell_type": "markdown",
      "metadata": {
        "id": "d50dCARtKBSo"
      },
      "source": [
        "You can also nest if-statements within if-statements to check for further conditions."
      ]
    },
    {
      "cell_type": "code",
      "metadata": {
        "id": "k69VGFuZKBSo",
        "colab": {
          "base_uri": "https://localhost:8080/"
        },
        "outputId": "3cf1597c-5750-4a15-87f9-09b17647d5ae"
      },
      "source": [
        "i = 10\n",
        "if i % 2 == 0:\n",
        "    if i % 3 == 0:\n",
        "        print('i is divisible by both 2 and 3! Wow!')\n",
        "    elif i % 5 == 0:\n",
        "        print('i is divisible by both 2 and 5! Wow!')\n",
        "    else:\n",
        "        print('i is divisible by 2, but not 3 or 5. Meh.')\n",
        "else:\n",
        "    print('I guess that i is an odd number. Boring.')"
      ],
      "execution_count": 162,
      "outputs": [
        {
          "output_type": "stream",
          "text": [
            "i is divisible by both 2 and 5! Wow!\n"
          ],
          "name": "stdout"
        }
      ]
    },
    {
      "cell_type": "code",
      "metadata": {
        "id": "yuqf4gPyKBSp",
        "colab": {
          "base_uri": "https://localhost:8080/"
        },
        "outputId": "163f247e-cd87-45ff-fcb9-c44730305f02"
      },
      "source": [
        "o = 100\n",
        "if o % 20 == 0:\n",
        "    if o % 30 == 0:\n",
        "        print('o is divisible by both 2 and 3! Wow!')\n",
        "    elif o % 50 == 0:\n",
        "        print('o is divisible by both 2 and 5! Wow!')\n",
        "    else:\n",
        "        print('o is divisible by 2, but not 3 or 5. Meh.')\n",
        "else:\n",
        "    print('I guess that i is an odd number. Boring.')"
      ],
      "execution_count": 163,
      "outputs": [
        {
          "output_type": "stream",
          "text": [
            "o is divisible by both 2 and 5! Wow!\n"
          ],
          "name": "stdout"
        }
      ]
    },
    {
      "cell_type": "markdown",
      "metadata": {
        "id": "4mXB7sW7KBSp"
      },
      "source": [
        "Remember that we can group multiple conditions together by using the logical operators!"
      ]
    },
    {
      "cell_type": "code",
      "metadata": {
        "id": "_hi4z4PPKBSp",
        "colab": {
          "base_uri": "https://localhost:8080/"
        },
        "outputId": "24f08bb8-c3eb-4462-d692-658dce97cda0"
      },
      "source": [
        "i = 5\n",
        "j = 12\n",
        "if i < 10 and j > 11:\n",
        "    print('{0} is less than 10 and {1} is greater than 11! How novel and interesting!'.format(i, j))"
      ],
      "execution_count": 164,
      "outputs": [
        {
          "output_type": "stream",
          "text": [
            "5 is less than 10 and 12 is greater than 11! How novel and interesting!\n"
          ],
          "name": "stdout"
        }
      ]
    },
    {
      "cell_type": "code",
      "metadata": {
        "id": "wp75Y0EQKBSp",
        "colab": {
          "base_uri": "https://localhost:8080/"
        },
        "outputId": "45a2baf0-bf2b-45c5-d344-586ab359e61c"
      },
      "source": [
        "k = 10\n",
        "l = 120\n",
        "if k < 100 and l > 110:\n",
        "    print('{0} is less than 100 and {1} is greater than 110! How novel and interesting!'.format(i, j))"
      ],
      "execution_count": 165,
      "outputs": [
        {
          "output_type": "stream",
          "text": [
            "5 is less than 100 and 12 is greater than 110! How novel and interesting!\n"
          ],
          "name": "stdout"
        }
      ]
    },
    {
      "cell_type": "markdown",
      "metadata": {
        "id": "Zt8wHs-8KBSp"
      },
      "source": [
        "You can use the logical comparators to compare strings!"
      ]
    },
    {
      "cell_type": "code",
      "metadata": {
        "id": "iMKUgtPHKBSp",
        "colab": {
          "base_uri": "https://localhost:8080/"
        },
        "outputId": "cc5eca3e-4fd4-42e3-ee3f-71a6173c429d"
      },
      "source": [
        "my_string = \"Carthago delenda est\"\n",
        "if my_string == \"Carthago delenda est\":\n",
        "    print('And so it was! For the glory of Rome!')\n",
        "else:\n",
        "    print('War elephants are TERRIFYING. I am staying home.')"
      ],
      "execution_count": 166,
      "outputs": [
        {
          "output_type": "stream",
          "text": [
            "And so it was! For the glory of Rome!\n"
          ],
          "name": "stdout"
        }
      ]
    },
    {
      "cell_type": "code",
      "metadata": {
        "id": "ZTMtyxOGKBSp",
        "colab": {
          "base_uri": "https://localhost:8080/"
        },
        "outputId": "e784b537-9693-4de8-f6c9-000d75c54cad"
      },
      "source": [
        "mi_string = \"UN\"\n",
        "if mi_string == \"UN\":\n",
        "    print('uy, de la nacho')\n",
        "else:\n",
        "    print('debe ser de harvard')"
      ],
      "execution_count": 167,
      "outputs": [
        {
          "output_type": "stream",
          "text": [
            "uy, de la nacho\n"
          ],
          "name": "stdout"
        }
      ]
    },
    {
      "cell_type": "markdown",
      "metadata": {
        "id": "vEdDfKXlKBSq"
      },
      "source": [
        "As with other data types, `==` will check for whether the two things on either side of it have the same value. In this case, we compare whether the value of the strings are the same. Using `>` or `<` or any of the other comparators is not quite so intuitive, however, so we will stay from using comparators with strings in this lecture. Comparators will examine the [lexicographical order](https://en.wikipedia.org/wiki/Lexicographical_order) of the strings, which might be a bit more in-depth than you might like."
      ]
    },
    {
      "cell_type": "markdown",
      "metadata": {
        "id": "pv6BnE9WKBSq"
      },
      "source": [
        "Some built-in functions return a boolean value, so they can be used as conditions in an if-statement. User-defined functions can also be constructed so that they return a boolean value. This will be covered later with function definition!\n",
        "\n",
        "The `in` keyword is generally used to check membership of a value within another value. We can check memebership in the context of an if-statement and use it to output a truth value."
      ]
    },
    {
      "cell_type": "code",
      "metadata": {
        "id": "ZDJXCnfnKBSq",
        "colab": {
          "base_uri": "https://localhost:8080/"
        },
        "outputId": "bad71f10-191d-4cee-fbd0-44a10d5a0fcc"
      },
      "source": [
        "if 'a' in my_string or 'e' in my_string:\n",
        "    print('Those are my favorite vowels!')"
      ],
      "execution_count": 168,
      "outputs": [
        {
          "output_type": "stream",
          "text": [
            "Those are my favorite vowels!\n"
          ],
          "name": "stdout"
        }
      ]
    },
    {
      "cell_type": "code",
      "metadata": {
        "id": "zM6764Q5KBSq",
        "colab": {
          "base_uri": "https://localhost:8080/"
        },
        "outputId": "4e37df43-4f19-4573-c8ec-1d0b9e8b73ce"
      },
      "source": [
        "if 'U' in mi_string or 'N' in mi_string:\n",
        "    print('F :v')"
      ],
      "execution_count": 169,
      "outputs": [
        {
          "output_type": "stream",
          "text": [
            "F :v\n"
          ],
          "name": "stdout"
        }
      ]
    },
    {
      "cell_type": "markdown",
      "metadata": {
        "id": "aQvcs765KBSq"
      },
      "source": [
        "Here we use `in` to check whether the variable `my_string` contains any particular letters. We will later use `in` to iterate through lists!"
      ]
    },
    {
      "cell_type": "markdown",
      "metadata": {
        "id": "tDAxXgBDKBSq"
      },
      "source": [
        "## Loop Structures\n",
        "\n",
        "Loop structures are one of the most important parts of programming. The `for` loop and the `while` loop provide a way to repeatedly run a block of code repeatedly. A `while` loop will iterate until a certain condition has been met. If at any point after an iteration that condition is no longer satisfied, the loop terminates. A `for` loop will iterate over a sequence of values and terminate when the sequence has ended. You can instead include conditions within the `for` loop to decide whether it should terminate early or you could simply let it run its course."
      ]
    },
    {
      "cell_type": "code",
      "metadata": {
        "id": "mxFxdLbAKBSq",
        "colab": {
          "base_uri": "https://localhost:8080/"
        },
        "outputId": "8b7607c0-a8ff-4aa0-e705-7dddb0932d97"
      },
      "source": [
        "i = 5\n",
        "while i > 0: # We can write this as 'while i:' because 0 is False!\n",
        "    i -= 1\n",
        "    print('I am looping! {0} more to go!'.format(i))"
      ],
      "execution_count": 170,
      "outputs": [
        {
          "output_type": "stream",
          "text": [
            "I am looping! 4 more to go!\n",
            "I am looping! 3 more to go!\n",
            "I am looping! 2 more to go!\n",
            "I am looping! 1 more to go!\n",
            "I am looping! 0 more to go!\n"
          ],
          "name": "stdout"
        }
      ]
    },
    {
      "cell_type": "code",
      "metadata": {
        "id": "7TWtt4dWKBSq",
        "colab": {
          "base_uri": "https://localhost:8080/"
        },
        "outputId": "8c1397a4-a213-4277-9e67-11edd2691dc3"
      },
      "source": [
        "g = 9\n",
        "while g > 0: # We can write this as 'while i:' because 0 is False!\n",
        "    g -= 1\n",
        "    print('I am looping! {0} more to go!'.format(g))"
      ],
      "execution_count": 171,
      "outputs": [
        {
          "output_type": "stream",
          "text": [
            "I am looping! 8 more to go!\n",
            "I am looping! 7 more to go!\n",
            "I am looping! 6 more to go!\n",
            "I am looping! 5 more to go!\n",
            "I am looping! 4 more to go!\n",
            "I am looping! 3 more to go!\n",
            "I am looping! 2 more to go!\n",
            "I am looping! 1 more to go!\n",
            "I am looping! 0 more to go!\n"
          ],
          "name": "stdout"
        }
      ]
    },
    {
      "cell_type": "markdown",
      "metadata": {
        "id": "l60X5hLiKBSr"
      },
      "source": [
        "\n",
        "With `while` loops we need to make sure that something actually changes from iteration to iteration so that that the loop actually terminates. In this case, we use the shorthand `i -= 1` (short for `i = i - 1`) so that the value of `i` gets smaller with each iteration. Eventually `i` will be reduced to `0`, rendering the condition `False` and exiting the loop."
      ]
    },
    {
      "cell_type": "markdown",
      "metadata": {
        "id": "AdlXCP8TKBSr"
      },
      "source": [
        "A `for` loop iterates a set number of times, determined when you state the entry into the loop. In this case we are iterating over the list returned from `range()`. The `for` loop selects a value from the list, in order, and temporarily assigns the value of `i` to it so that operations can be performed with the value."
      ]
    },
    {
      "cell_type": "code",
      "metadata": {
        "id": "6DZ_WnbqKBSr",
        "colab": {
          "base_uri": "https://localhost:8080/"
        },
        "outputId": "c2ffde92-42d1-480a-e345-db3314bc7c3c"
      },
      "source": [
        "for i in range(5):\n",
        "    print('I am looping! I have looped {0} times!'.format(i + 1))"
      ],
      "execution_count": 172,
      "outputs": [
        {
          "output_type": "stream",
          "text": [
            "I am looping! I have looped 1 times!\n",
            "I am looping! I have looped 2 times!\n",
            "I am looping! I have looped 3 times!\n",
            "I am looping! I have looped 4 times!\n",
            "I am looping! I have looped 5 times!\n"
          ],
          "name": "stdout"
        }
      ]
    },
    {
      "cell_type": "code",
      "metadata": {
        "id": "CVSeCdRJKBSr",
        "colab": {
          "base_uri": "https://localhost:8080/"
        },
        "outputId": "73ef2bcf-d5c8-4b26-929c-a2f18c5b990f"
      },
      "source": [
        "for g in range(9):\n",
        "    print('I am looping! I have looped {0} times!'.format(g + 1))"
      ],
      "execution_count": 173,
      "outputs": [
        {
          "output_type": "stream",
          "text": [
            "I am looping! I have looped 1 times!\n",
            "I am looping! I have looped 2 times!\n",
            "I am looping! I have looped 3 times!\n",
            "I am looping! I have looped 4 times!\n",
            "I am looping! I have looped 5 times!\n",
            "I am looping! I have looped 6 times!\n",
            "I am looping! I have looped 7 times!\n",
            "I am looping! I have looped 8 times!\n",
            "I am looping! I have looped 9 times!\n"
          ],
          "name": "stdout"
        }
      ]
    },
    {
      "cell_type": "markdown",
      "metadata": {
        "id": "OGON7DmhKBSr"
      },
      "source": [
        "Note that in this `for` loop we use the `in` keyword. Use of the `in` keyword is not limited to checking for membership as in the if-statement example. You can iterate over any collection with a `for` loop by using the `in` keyword.\n",
        "\n",
        "In this next example, we will iterate over a `set` because we want to check for containment and add to a new set."
      ]
    },
    {
      "cell_type": "code",
      "metadata": {
        "id": "F6lSfoNiKBSr",
        "colab": {
          "base_uri": "https://localhost:8080/"
        },
        "outputId": "b3abccb1-31f4-4cf3-b760-5bb6bdfcb273"
      },
      "source": [
        "my_list = {'cats', 'dogs', 'lizards', 'cows', 'bats', 'sponges', 'humans'} # Lists all the animals in the world\n",
        "mammal_list = {'cats', 'dogs', 'cows', 'bats', 'humans'} # Lists all the mammals in the world\n",
        "my_new_list = set()\n",
        "for animal in my_list:\n",
        "    if animal in mammal_list:\n",
        "        # This adds any animal that is both in my_list and mammal_list to my_new_list\n",
        "        my_new_list.add(animal)\n",
        "        \n",
        "print(my_new_list)"
      ],
      "execution_count": 174,
      "outputs": [
        {
          "output_type": "stream",
          "text": [
            "{'dogs', 'cats', 'bats', 'humans', 'cows'}\n"
          ],
          "name": "stdout"
        }
      ]
    },
    {
      "cell_type": "code",
      "metadata": {
        "id": "VQUxlGTMKBSr",
        "colab": {
          "base_uri": "https://localhost:8080/"
        },
        "outputId": "76438ca0-f333-4660-b3ca-c93e17b28b5b"
      },
      "source": [
        "mi_lista = {'gatos', 'perros', 'esa vaina', 'vaquitas', 'murcielagos', 'esa cosa', 'humanos'} # Lists all the animals in the world\n",
        "anlist = {'gatos', 'perros', 'vaquitas', 'murcielagos', 'humanos'} # Lists all the mammals in the world\n",
        "nlist = set()\n",
        "for animal in mi_lista:\n",
        "    if animal in anlist:\n",
        "        # This adds any animal that is both in my_list and mammal_list to my_new_list\n",
        "        nlist.add(animal)\n",
        "        \n",
        "print(nlist)"
      ],
      "execution_count": 175,
      "outputs": [
        {
          "output_type": "stream",
          "text": [
            "{'gatos', 'humanos', 'murcielagos', 'vaquitas', 'perros'}\n"
          ],
          "name": "stdout"
        }
      ]
    },
    {
      "cell_type": "markdown",
      "metadata": {
        "id": "y9Js1UqrKBSs"
      },
      "source": [
        "There are two statements that are very helpful in dealing with both `for` and `while` loops. These are `break` and `continue`. If `break` is encountered at any point while a loop is executing, the loop will immediately end."
      ]
    },
    {
      "cell_type": "code",
      "metadata": {
        "id": "6xEv7HUcKBSs",
        "colab": {
          "base_uri": "https://localhost:8080/"
        },
        "outputId": "5447ba34-2fda-436e-e446-0e6f5cebf272"
      },
      "source": [
        "i = 10\n",
        "while True:\n",
        "    if i == 14:\n",
        "        break\n",
        "    i += 1 # This is shorthand for i = i + 1. It increments i with each iteration.\n",
        "    print(i)"
      ],
      "execution_count": 176,
      "outputs": [
        {
          "output_type": "stream",
          "text": [
            "11\n",
            "12\n",
            "13\n",
            "14\n"
          ],
          "name": "stdout"
        }
      ]
    },
    {
      "cell_type": "code",
      "metadata": {
        "id": "hvc2gp3nKBSs",
        "colab": {
          "base_uri": "https://localhost:8080/"
        },
        "outputId": "ce80a29e-58f4-4a28-acfa-8aea2d1b4572"
      },
      "source": [
        "h = 1\n",
        "while True:\n",
        "    if h == 14:\n",
        "        break\n",
        "    h += 1 # This is shorthand for i = i + 1. It increments i with each iteration.\n",
        "    print(h)"
      ],
      "execution_count": 177,
      "outputs": [
        {
          "output_type": "stream",
          "text": [
            "2\n",
            "3\n",
            "4\n",
            "5\n",
            "6\n",
            "7\n",
            "8\n",
            "9\n",
            "10\n",
            "11\n",
            "12\n",
            "13\n",
            "14\n"
          ],
          "name": "stdout"
        }
      ]
    },
    {
      "cell_type": "code",
      "metadata": {
        "id": "nuzyNqnjKBSs",
        "colab": {
          "base_uri": "https://localhost:8080/"
        },
        "outputId": "44b11bb2-ef3e-41da-edc1-a3ee14137b31"
      },
      "source": [
        "for i in range(5):\n",
        "    if i == 2:\n",
        "        break\n",
        "    print(i)"
      ],
      "execution_count": 178,
      "outputs": [
        {
          "output_type": "stream",
          "text": [
            "0\n",
            "1\n"
          ],
          "name": "stdout"
        }
      ]
    },
    {
      "cell_type": "code",
      "metadata": {
        "id": "rMF9v0p7KBSs",
        "colab": {
          "base_uri": "https://localhost:8080/"
        },
        "outputId": "8e25a3b2-c9cc-47b5-b8b0-403d6742fb86"
      },
      "source": [
        "for h in range(9):\n",
        "    if h == 8:\n",
        "        break\n",
        "    print(h)"
      ],
      "execution_count": 179,
      "outputs": [
        {
          "output_type": "stream",
          "text": [
            "0\n",
            "1\n",
            "2\n",
            "3\n",
            "4\n",
            "5\n",
            "6\n",
            "7\n"
          ],
          "name": "stdout"
        }
      ]
    },
    {
      "cell_type": "markdown",
      "metadata": {
        "id": "XiC5YmroKBSs"
      },
      "source": [
        "The `continue` statement will tell the loop to immediately end this iteration and continue onto the next iteration of the loop."
      ]
    },
    {
      "cell_type": "code",
      "metadata": {
        "id": "ZIUKPzZVKBSs",
        "colab": {
          "base_uri": "https://localhost:8080/"
        },
        "outputId": "3f3663a2-ed2c-460f-f2a8-183245dc5eb4"
      },
      "source": [
        "i = 0\n",
        "while i < 5:\n",
        "    i += 1\n",
        "    if i == 3:\n",
        "        continue\n",
        "    print(i)"
      ],
      "execution_count": 180,
      "outputs": [
        {
          "output_type": "stream",
          "text": [
            "1\n",
            "2\n",
            "4\n",
            "5\n"
          ],
          "name": "stdout"
        }
      ]
    },
    {
      "cell_type": "code",
      "metadata": {
        "id": "NcxhzBzYKBSs",
        "colab": {
          "base_uri": "https://localhost:8080/"
        },
        "outputId": "18bacd45-d1a1-4347-edb9-19c6631826ba"
      },
      "source": [
        "h = -1\n",
        "while h < 5:\n",
        "    h += 1\n",
        "    if h == 3:\n",
        "        continue\n",
        "    print(h)"
      ],
      "execution_count": 181,
      "outputs": [
        {
          "output_type": "stream",
          "text": [
            "0\n",
            "1\n",
            "2\n",
            "4\n",
            "5\n"
          ],
          "name": "stdout"
        }
      ]
    },
    {
      "cell_type": "markdown",
      "metadata": {
        "id": "nnlMHu_0KBSt"
      },
      "source": [
        "This loop skips printing the number $3$ because of the `continue` statement that executes when we enter the if-statement. The code never sees the command to printthe number $3$ because it has already moved to the next iteration. The `break` and `continue` statements are further tools to help you control the flow of your loops and, as a result, your code."
      ]
    },
    {
      "cell_type": "markdown",
      "metadata": {
        "id": "NMtOf985KBSt"
      },
      "source": [
        "The variable that we use to iterate over a loop will retain its value when the loop exits. Similarly, any variables defined within the context of the loop will continue to exist outside of it."
      ]
    },
    {
      "cell_type": "code",
      "metadata": {
        "id": "HEY2raosKBSt",
        "colab": {
          "base_uri": "https://localhost:8080/",
          "height": 129
        },
        "outputId": "cd862b88-a678-4f01-fa31-d25a95d96232"
      },
      "source": [
        "for i in range(5):\n",
        "    loop_string = 'I transcend the loop!'\n",
        "    print'I am eternal! I am {0} and I exist everywhere!'.format(i)\n",
        "\n",
        "print('I persist! My value is {0}'.format(i))\n",
        "print(loop_string)"
      ],
      "execution_count": 182,
      "outputs": [
        {
          "output_type": "error",
          "ename": "SyntaxError",
          "evalue": "ignored",
          "traceback": [
            "\u001b[0;36m  File \u001b[0;32m\"<ipython-input-182-67844d316366>\"\u001b[0;36m, line \u001b[0;32m3\u001b[0m\n\u001b[0;31m    print'I am eternal! I am {0} and I exist everywhere!'.format(i)\u001b[0m\n\u001b[0m                                                        ^\u001b[0m\n\u001b[0;31mSyntaxError\u001b[0m\u001b[0;31m:\u001b[0m invalid syntax\n"
          ]
        }
      ]
    },
    {
      "cell_type": "code",
      "metadata": {
        "id": "yy5iCi2dKBSt",
        "colab": {
          "base_uri": "https://localhost:8080/"
        },
        "outputId": "db795d1f-de86-4437-b50d-d3864b042873"
      },
      "source": [
        "for h in range(5):\n",
        "    ciclostring = 'I transcend the loop!'\n",
        "    print('I am eternal! I am {0} and I exist everywhere!'.format(h))\n",
        "\n",
        "print('I persist! My value is {0}'.format(h))\n",
        "print(ciclostring)"
      ],
      "execution_count": 197,
      "outputs": [
        {
          "output_type": "stream",
          "text": [
            "I am eternal! I am 0 and I exist everywhere!\n",
            "I am eternal! I am 1 and I exist everywhere!\n",
            "I am eternal! I am 2 and I exist everywhere!\n",
            "I am eternal! I am 3 and I exist everywhere!\n",
            "I am eternal! I am 4 and I exist everywhere!\n",
            "I persist! My value is 4\n",
            "I transcend the loop!\n"
          ],
          "name": "stdout"
        }
      ]
    },
    {
      "cell_type": "markdown",
      "metadata": {
        "id": "WjjKn44pKBSt"
      },
      "source": [
        "We can also iterate over a dictionary!"
      ]
    },
    {
      "cell_type": "code",
      "metadata": {
        "id": "PSBZjLGEKBSt"
      },
      "source": [
        "my_dict = {'firstname' : 'Inigo', 'lastname' : 'Montoya', 'nemesis' : 'Rugen'}"
      ],
      "execution_count": 198,
      "outputs": []
    },
    {
      "cell_type": "code",
      "metadata": {
        "id": "MT2qD9r5KBSt"
      },
      "source": [
        "diccion = {'firstname' : 'Inigo', 'lastname' : 'Montoya', 'nemesis' : 'Rugen'}"
      ],
      "execution_count": 199,
      "outputs": []
    },
    {
      "cell_type": "code",
      "metadata": {
        "id": "scMxdod6KBSt",
        "colab": {
          "base_uri": "https://localhost:8080/"
        },
        "outputId": "46167dae-4b79-479f-ef70-cbdf525350a5"
      },
      "source": [
        "for key in my_dict:\n",
        "    print(key)"
      ],
      "execution_count": 200,
      "outputs": [
        {
          "output_type": "stream",
          "text": [
            "firstname\n",
            "lastname\n",
            "nemesis\n"
          ],
          "name": "stdout"
        }
      ]
    },
    {
      "cell_type": "code",
      "metadata": {
        "id": "h7lVL8GtKBSu",
        "colab": {
          "base_uri": "https://localhost:8080/"
        },
        "outputId": "d00cccc6-c05c-425c-d8d0-8fafdfff7e9a"
      },
      "source": [
        "for key in diccion:\n",
        "    print(key)"
      ],
      "execution_count": 201,
      "outputs": [
        {
          "output_type": "stream",
          "text": [
            "firstname\n",
            "lastname\n",
            "nemesis\n"
          ],
          "name": "stdout"
        }
      ]
    },
    {
      "cell_type": "markdown",
      "metadata": {
        "id": "gFFhp7eKKBSu"
      },
      "source": [
        "If we just iterate over a dictionary without doing anything else, we will only get the keys. We can either use the keys to get the values, like so:"
      ]
    },
    {
      "cell_type": "code",
      "metadata": {
        "id": "64okOC6-KBSu",
        "colab": {
          "base_uri": "https://localhost:8080/"
        },
        "outputId": "8c387f07-9630-46e3-9ed0-220d72fa6da2"
      },
      "source": [
        "for key in my_dict:\n",
        "    print(my_dict[key])"
      ],
      "execution_count": 202,
      "outputs": [
        {
          "output_type": "stream",
          "text": [
            "Inigo\n",
            "Montoya\n",
            "Rugen\n"
          ],
          "name": "stdout"
        }
      ]
    },
    {
      "cell_type": "code",
      "metadata": {
        "id": "CKwX99VzKBSu",
        "colab": {
          "base_uri": "https://localhost:8080/"
        },
        "outputId": "91b51b27-f045-4bfe-c6dd-d2def8b671c4"
      },
      "source": [
        "for key in diccion:\n",
        "    print(diccion[key])"
      ],
      "execution_count": 203,
      "outputs": [
        {
          "output_type": "stream",
          "text": [
            "Inigo\n",
            "Montoya\n",
            "Rugen\n"
          ],
          "name": "stdout"
        }
      ]
    },
    {
      "cell_type": "markdown",
      "metadata": {
        "id": "1PwWkP1IKBSu"
      },
      "source": [
        "Or we can use the `items()` function to get both key and value at the same time."
      ]
    },
    {
      "cell_type": "code",
      "metadata": {
        "id": "mGc-vZaoKBSu",
        "colab": {
          "base_uri": "https://localhost:8080/"
        },
        "outputId": "355e89ee-d26a-4e3a-c91f-14d5944b445e"
      },
      "source": [
        "for key, value in my_dict.items():\n",
        "    print(key, ':', value)"
      ],
      "execution_count": 204,
      "outputs": [
        {
          "output_type": "stream",
          "text": [
            "firstname : Inigo\n",
            "lastname : Montoya\n",
            "nemesis : Rugen\n"
          ],
          "name": "stdout"
        }
      ]
    },
    {
      "cell_type": "code",
      "metadata": {
        "id": "w1vZXssfKBSu",
        "colab": {
          "base_uri": "https://localhost:8080/"
        },
        "outputId": "a8ae1313-39e3-4aab-a950-4321bd8be275"
      },
      "source": [
        "for key, value in diccion.items():\n",
        "    print(key, ':', value)"
      ],
      "execution_count": 205,
      "outputs": [
        {
          "output_type": "stream",
          "text": [
            "firstname : Inigo\n",
            "lastname : Montoya\n",
            "nemesis : Rugen\n"
          ],
          "name": "stdout"
        }
      ]
    },
    {
      "cell_type": "markdown",
      "metadata": {
        "id": "2W9S-PHkKBSv"
      },
      "source": [
        "The `items()` function creates a tuple of each key-value pair and the for loop unpacks that tuple into `key, value` on each separate execution of the loop!"
      ]
    },
    {
      "cell_type": "markdown",
      "metadata": {
        "id": "SdiLYSzLKBSv"
      },
      "source": [
        "## Functions\n",
        "\n",
        "A function is a reusable block of code that you can call repeatedly to make calculations, output data, or really do anything that you want. This is one of the key aspects of using a programming language. To add to the built-in functions in Python, you can define your own!"
      ]
    },
    {
      "cell_type": "code",
      "metadata": {
        "id": "cQ610idLKBSv",
        "colab": {
          "base_uri": "https://localhost:8080/"
        },
        "outputId": "b23ef48d-c453-4a63-df56-f6460b387467"
      },
      "source": [
        "def hello_world():\n",
        "    \"\"\" Prints Hello, world! \"\"\"\n",
        "    print('Hello, world!')\n",
        "\n",
        "hello_world()"
      ],
      "execution_count": 206,
      "outputs": [
        {
          "output_type": "stream",
          "text": [
            "Hello, world!\n"
          ],
          "name": "stdout"
        }
      ]
    },
    {
      "cell_type": "code",
      "metadata": {
        "id": "SVvLXLsZKBSv",
        "colab": {
          "base_uri": "https://localhost:8080/"
        },
        "outputId": "f3521be4-8b89-4781-ca5d-9757c21e48b7"
      },
      "source": [
        "def holaMundo():\n",
        "    \"\"\" Prints Hello, world! \"\"\"\n",
        "    print('hola mundo!')\n",
        "\n",
        "holaMundo()"
      ],
      "execution_count": 207,
      "outputs": [
        {
          "output_type": "stream",
          "text": [
            "hola mundo!\n"
          ],
          "name": "stdout"
        }
      ]
    },
    {
      "cell_type": "code",
      "metadata": {
        "id": "_4BM9QIjKBSv",
        "colab": {
          "base_uri": "https://localhost:8080/"
        },
        "outputId": "41b1e3f2-f03b-4976-d82e-9be831a6d2a1"
      },
      "source": [
        "for i in range(5):\n",
        "    hello_world()"
      ],
      "execution_count": 208,
      "outputs": [
        {
          "output_type": "stream",
          "text": [
            "Hello, world!\n",
            "Hello, world!\n",
            "Hello, world!\n",
            "Hello, world!\n",
            "Hello, world!\n"
          ],
          "name": "stdout"
        }
      ]
    },
    {
      "cell_type": "code",
      "metadata": {
        "id": "1CYgSW_RKBSv",
        "colab": {
          "base_uri": "https://localhost:8080/"
        },
        "outputId": "3abe5744-6907-41ba-a887-d5a9fb12d36c"
      },
      "source": [
        "for h in range(5):\n",
        "    holaMundo()"
      ],
      "execution_count": 209,
      "outputs": [
        {
          "output_type": "stream",
          "text": [
            "hola mundo!\n",
            "hola mundo!\n",
            "hola mundo!\n",
            "hola mundo!\n",
            "hola mundo!\n"
          ],
          "name": "stdout"
        }
      ]
    },
    {
      "cell_type": "markdown",
      "metadata": {
        "id": "5CoYYko-KBSv"
      },
      "source": [
        "Functions are defined with `def`, a function name, a list of parameters, and a colon. Everything indented below the colon will be included in the definition of the function.\n",
        "\n",
        "We can have our functions do anything that you can do with a normal block of code. For example, our `hello_world()` function prints a string every time it is called. If we want to keep a value that a function calculates, we can define the function so that it will `return` the value we want. This is a very important feature of functions, as any variable defined purely within a function will not exist outside of it."
      ]
    },
    {
      "cell_type": "code",
      "metadata": {
        "id": "oWT02VmNKBSv",
        "colab": {
          "base_uri": "https://localhost:8080/",
          "height": 197
        },
        "outputId": "9f537552-7b8d-40f0-f33f-1d602d89c3f2"
      },
      "source": [
        "def see_the_scope():\n",
        "    in_function_string = \"I'm stuck in here!\"\n",
        "\n",
        "see_the_scope()\n",
        "print(in_function_string)"
      ],
      "execution_count": 210,
      "outputs": [
        {
          "output_type": "error",
          "ename": "NameError",
          "evalue": "ignored",
          "traceback": [
            "\u001b[0;31m---------------------------------------------------------------------------\u001b[0m",
            "\u001b[0;31mNameError\u001b[0m                                 Traceback (most recent call last)",
            "\u001b[0;32m<ipython-input-210-fb168f245f67>\u001b[0m in \u001b[0;36m<module>\u001b[0;34m()\u001b[0m\n\u001b[1;32m      3\u001b[0m \u001b[0;34m\u001b[0m\u001b[0m\n\u001b[1;32m      4\u001b[0m \u001b[0msee_the_scope\u001b[0m\u001b[0;34m(\u001b[0m\u001b[0;34m)\u001b[0m\u001b[0;34m\u001b[0m\u001b[0;34m\u001b[0m\u001b[0m\n\u001b[0;32m----> 5\u001b[0;31m \u001b[0mprint\u001b[0m\u001b[0;34m(\u001b[0m\u001b[0min_function_string\u001b[0m\u001b[0;34m)\u001b[0m\u001b[0;34m\u001b[0m\u001b[0;34m\u001b[0m\u001b[0m\n\u001b[0m",
            "\u001b[0;31mNameError\u001b[0m: name 'in_function_string' is not defined"
          ]
        }
      ]
    },
    {
      "cell_type": "code",
      "metadata": {
        "id": "fWJYDBrYKBSw",
        "colab": {
          "base_uri": "https://localhost:8080/",
          "height": 197
        },
        "outputId": "b6c6bb12-1697-4f2b-b6c2-81ce56741535"
      },
      "source": [
        "def funcion():\n",
        "    cadenita = \"hey!\"\n",
        "\n",
        "funcion()\n",
        "print(cadenita)"
      ],
      "execution_count": 211,
      "outputs": [
        {
          "output_type": "error",
          "ename": "NameError",
          "evalue": "ignored",
          "traceback": [
            "\u001b[0;31m---------------------------------------------------------------------------\u001b[0m",
            "\u001b[0;31mNameError\u001b[0m                                 Traceback (most recent call last)",
            "\u001b[0;32m<ipython-input-211-4ebd87aec359>\u001b[0m in \u001b[0;36m<module>\u001b[0;34m()\u001b[0m\n\u001b[1;32m      3\u001b[0m \u001b[0;34m\u001b[0m\u001b[0m\n\u001b[1;32m      4\u001b[0m \u001b[0mfuncion\u001b[0m\u001b[0;34m(\u001b[0m\u001b[0;34m)\u001b[0m\u001b[0;34m\u001b[0m\u001b[0;34m\u001b[0m\u001b[0m\n\u001b[0;32m----> 5\u001b[0;31m \u001b[0mprint\u001b[0m\u001b[0;34m(\u001b[0m\u001b[0mcadenita\u001b[0m\u001b[0;34m)\u001b[0m\u001b[0;34m\u001b[0m\u001b[0;34m\u001b[0m\u001b[0m\n\u001b[0m",
            "\u001b[0;31mNameError\u001b[0m: name 'cadenita' is not defined"
          ]
        }
      ]
    },
    {
      "cell_type": "markdown",
      "metadata": {
        "id": "xp0Xo7k8KBSw"
      },
      "source": [
        " The **scope** of a variable is the part of a block of code where that variable is tied to a particular value. Functions in Python have an enclosed scope, making it so that variables defined within them can only be accessed directly within them. If we pass those values to a return statement we can get them out of the function. This makes it so that the function call returns values so that you can store them in variables that have a greater scope.\n",
        " \n",
        "In this case specifically, including a return statement allows us to keep the string value that we define in the function."
      ]
    },
    {
      "cell_type": "code",
      "metadata": {
        "id": "Yfb6Tra4KBSw",
        "colab": {
          "base_uri": "https://localhost:8080/"
        },
        "outputId": "d9faab9b-13e3-40da-8a1c-067c8c648b67"
      },
      "source": [
        "def free_the_scope():\n",
        "    in_function_string = \"Anything you can do I can do better!\"\n",
        "    return in_function_string\n",
        "my_string = free_the_scope()\n",
        "print(my_string)"
      ],
      "execution_count": 238,
      "outputs": [
        {
          "output_type": "stream",
          "text": [
            "Anything you can do I can do better!\n"
          ],
          "name": "stdout"
        }
      ]
    },
    {
      "cell_type": "code",
      "metadata": {
        "id": "xj73GcbSKBSw",
        "colab": {
          "base_uri": "https://localhost:8080/"
        },
        "outputId": "c0bf24c7-b23c-4695-9186-5d30ca632a10"
      },
      "source": [
        "def funcion():\n",
        "    cadenita = \"hey!\"\n",
        "    return cadenita\n",
        "string = funcion()\n",
        "print(string)"
      ],
      "execution_count": 239,
      "outputs": [
        {
          "output_type": "stream",
          "text": [
            "hey!\n"
          ],
          "name": "stdout"
        }
      ]
    },
    {
      "cell_type": "markdown",
      "metadata": {
        "id": "z3H3pdC-KBSw"
      },
      "source": [
        "Just as we can get values out of a function, we can also put values into a function. We do this by defining our function with parameters."
      ]
    },
    {
      "cell_type": "code",
      "metadata": {
        "id": "7tRWJXwYKBSw",
        "colab": {
          "base_uri": "https://localhost:8080/"
        },
        "outputId": "336a8b72-c4d2-4e9b-b2d9-e32d89f22419"
      },
      "source": [
        "def multiply_by_five(x):\n",
        "    \"\"\" Multiplies an input number by 5 \"\"\"\n",
        "    return x * 5\n",
        "\n",
        "n = 4\n",
        "print(n)\n",
        "print(multiply_by_five(n))"
      ],
      "execution_count": 240,
      "outputs": [
        {
          "output_type": "stream",
          "text": [
            "4\n",
            "20\n"
          ],
          "name": "stdout"
        }
      ]
    },
    {
      "cell_type": "code",
      "metadata": {
        "id": "HXGob2VGKBSw",
        "colab": {
          "base_uri": "https://localhost:8080/"
        },
        "outputId": "b6e8595d-c3ad-47c5-a34a-5d278705d62c"
      },
      "source": [
        "def multiply_by_6(x):\n",
        "    \"\"\" Multiplies an input number by 5 \"\"\"\n",
        "    return z * 6\n",
        "\n",
        "v = 7\n",
        "print(v)\n",
        "print(multiply_by_6(v))"
      ],
      "execution_count": 241,
      "outputs": [
        {
          "output_type": "stream",
          "text": [
            "7\n",
            "180.0\n"
          ],
          "name": "stdout"
        }
      ]
    },
    {
      "cell_type": "markdown",
      "metadata": {
        "id": "FNwGG4YTKBSx"
      },
      "source": [
        "In this example we only had one parameter for our function, `x`. We can easily add more parameters, separating everything with a comma."
      ]
    },
    {
      "cell_type": "code",
      "metadata": {
        "id": "kTaik5_1KBSx"
      },
      "source": [
        "def calculate_area(length, width):\n",
        "    \"\"\" Calculates the area of a rectangle \"\"\"\n",
        "    return length * width"
      ],
      "execution_count": 242,
      "outputs": []
    },
    {
      "cell_type": "code",
      "metadata": {
        "id": "gVcCc8WZKBSx"
      },
      "source": [
        "def calcularArea(largo, ancho):\n",
        "    \"\"\" Calculates the area of a rectangle \"\"\"\n",
        "    return largo * ancho"
      ],
      "execution_count": 243,
      "outputs": []
    },
    {
      "cell_type": "code",
      "metadata": {
        "id": "yfnhV-wOKBSx",
        "colab": {
          "base_uri": "https://localhost:8080/"
        },
        "outputId": "25c05e1f-33df-4b97-c050-2cbdd2e1da38"
      },
      "source": [
        "l = 5\n",
        "w = 10\n",
        "print('Area: ', calculate_area(l, w))\n",
        "print('Length: ', l)\n",
        "print('Width: ', w)"
      ],
      "execution_count": 244,
      "outputs": [
        {
          "output_type": "stream",
          "text": [
            "Area:  50\n",
            "Length:  5\n",
            "Width:  10\n"
          ],
          "name": "stdout"
        }
      ]
    },
    {
      "cell_type": "code",
      "metadata": {
        "id": "ejDGD_m6KBSx",
        "colab": {
          "base_uri": "https://localhost:8080/"
        },
        "outputId": "3e1d3060-7194-4397-8c7b-79574eb96979"
      },
      "source": [
        "l = 20\n",
        "a = 30\n",
        "print('Area: ', calculate_area(l, a))\n",
        "print('Length: ', l)\n",
        "print('Width: ', a)"
      ],
      "execution_count": 245,
      "outputs": [
        {
          "output_type": "stream",
          "text": [
            "Area:  600\n",
            "Length:  20\n",
            "Width:  30\n"
          ],
          "name": "stdout"
        }
      ]
    },
    {
      "cell_type": "code",
      "metadata": {
        "id": "9CIYOvofKBSx"
      },
      "source": [
        "def calculate_volume(length, width, depth):\n",
        "    \"\"\" Calculates the volume of a rectangular prism \"\"\"\n",
        "    return length * width * depth"
      ],
      "execution_count": 246,
      "outputs": []
    },
    {
      "cell_type": "code",
      "metadata": {
        "id": "kb_zYuYyKBSx"
      },
      "source": [
        "def calcularVolumen(largo, ancho, alto):\n",
        "    \"\"\" Calculates the volume of a rectangular prism \"\"\"\n",
        "    return largo * ancho * alto"
      ],
      "execution_count": 247,
      "outputs": []
    },
    {
      "cell_type": "markdown",
      "metadata": {
        "id": "4fyDbkQDKBSx"
      },
      "source": [
        "If we want to, we can define a function so that it takes an arbitrary number of parameters. We tell Python that we want this by using an asterisk (`*`)."
      ]
    },
    {
      "cell_type": "code",
      "metadata": {
        "id": "DJFPckvYKBSy"
      },
      "source": [
        "def sum_values(*args):\n",
        "    sum_val = 0\n",
        "    for i in args:\n",
        "        sum_val += i\n",
        "    return sum_val"
      ],
      "execution_count": 248,
      "outputs": []
    },
    {
      "cell_type": "code",
      "metadata": {
        "id": "d54gc1raKBSy"
      },
      "source": [
        "def sumar(*args):\n",
        "    sum = 0\n",
        "    for i in args:\n",
        "        sum += i\n",
        "    return sum"
      ],
      "execution_count": 249,
      "outputs": []
    },
    {
      "cell_type": "code",
      "metadata": {
        "id": "Jq38fZRKKBSy",
        "colab": {
          "base_uri": "https://localhost:8080/"
        },
        "outputId": "2a3b0557-2286-4dc0-cf1c-db22928fb543"
      },
      "source": [
        "print(sum_values(1, 2, 3))\n",
        "print(sum_values(10, 20, 30, 40, 50))\n",
        "print(sum_values(4, 2, 5, 1, 10, 249, 25, 24, 13, 6, 4))"
      ],
      "execution_count": 250,
      "outputs": [
        {
          "output_type": "stream",
          "text": [
            "6\n",
            "150\n",
            "343\n"
          ],
          "name": "stdout"
        }
      ]
    },
    {
      "cell_type": "code",
      "metadata": {
        "id": "QkmoRI-7KBSy",
        "colab": {
          "base_uri": "https://localhost:8080/"
        },
        "outputId": "0e50a230-fc95-4835-c594-c2857e77f2c9"
      },
      "source": [
        "print(sumar(15, 2, 3))\n",
        "print(sumar(19, 230, 30, 40, 50))\n",
        "print(sumar(49, 27, 59, 1, 10, 9, 215, 24, 13,))"
      ],
      "execution_count": 251,
      "outputs": [
        {
          "output_type": "stream",
          "text": [
            "20\n",
            "369\n",
            "407\n"
          ],
          "name": "stdout"
        }
      ]
    },
    {
      "cell_type": "markdown",
      "metadata": {
        "id": "K9CiPI42KBSy"
      },
      "source": [
        "The time to use `*args` as a parameter for your function is when you do not know how many values may be passed to it, as in the case of our sum function. The asterisk in this case is the syntax that tells Python that you are going to pass an arbitrary number of parameters into your function. These parameters are stored in the form of a tuple."
      ]
    },
    {
      "cell_type": "code",
      "metadata": {
        "id": "_w1jWacAKBSz",
        "colab": {
          "base_uri": "https://localhost:8080/"
        },
        "outputId": "838ff4c7-732e-44e6-80ca-9fdc009ff1c6"
      },
      "source": [
        "def test_args(*args):\n",
        "    print(type(args))\n",
        "\n",
        "test_args(1, 2, 3, 4, 5, 6)"
      ],
      "execution_count": 252,
      "outputs": [
        {
          "output_type": "stream",
          "text": [
            "<class 'tuple'>\n"
          ],
          "name": "stdout"
        }
      ]
    },
    {
      "cell_type": "code",
      "metadata": {
        "id": "C9ELgj38KBSz",
        "colab": {
          "base_uri": "https://localhost:8080/"
        },
        "outputId": "ebbda740-5958-4563-de0b-37922465c47c"
      },
      "source": [
        "def textos(*args):\n",
        "    print(type(args))\n",
        "\n",
        "textos(1, 2, 3, 4, 5, 6)"
      ],
      "execution_count": 253,
      "outputs": [
        {
          "output_type": "stream",
          "text": [
            "<class 'tuple'>\n"
          ],
          "name": "stdout"
        }
      ]
    },
    {
      "cell_type": "markdown",
      "metadata": {
        "id": "cZ-FHBNaKBSz"
      },
      "source": [
        "We can put as many elements into the `args` tuple as we want to when we call the function. However, because `args` is a tuple, we cannot modify it after it has been created.\n",
        "\n",
        "The `args` name of the variable is purely by convention. You could just as easily name your parameter `*vars` or `*things`. You can treat the `args` tuple like you would any other tuple, easily accessing `arg`'s values and iterating over it, as in the above `sum_values(*args)` function."
      ]
    },
    {
      "cell_type": "markdown",
      "metadata": {
        "id": "F3mr9bFuKBSz"
      },
      "source": [
        "Our functions can return any data type. This makes it easy for us to create functions that check for conditions that we might want to monitor.\n",
        "\n",
        "Here we define a function that returns a boolean value. We can easily use this in conjunction with if-statements and  other situations that require a boolean."
      ]
    },
    {
      "cell_type": "code",
      "metadata": {
        "id": "bDbw2XARKBSz"
      },
      "source": [
        "def has_a_vowel(word):\n",
        "    \"\"\" \n",
        "    Checks to see whether a word contains a vowel \n",
        "    If it doesn't contain a conventional vowel, it\n",
        "    will check for the presence of 'y' or 'w'. Does\n",
        "    not check to see whether those are in the word\n",
        "    in a vowel context.\n",
        "    \"\"\"\n",
        "    vowel_list = ['a', 'e', 'i', 'o', 'u']\n",
        "    \n",
        "    for vowel in vowel_list:\n",
        "        if vowel in word:\n",
        "            return True\n",
        "    # If there is a vowel in the word, the function returns, preventing anything after this loop from running\n",
        "    return False"
      ],
      "execution_count": 254,
      "outputs": []
    },
    {
      "cell_type": "code",
      "metadata": {
        "id": "Y2oqxaonKBS0"
      },
      "source": [
        "def tieneVocal(palabra):\n",
        "\n",
        "    listaVocal = ['a', 'e', 'i', 'o', 'u']\n",
        "    \n",
        "    for vocal in listaVocal:\n",
        "        if vocal in palabra:\n",
        "            return True\n",
        "    # If there is a vowel in the word, the function returns, preventing anything after this loop from running\n",
        "    return False"
      ],
      "execution_count": 255,
      "outputs": []
    },
    {
      "cell_type": "code",
      "metadata": {
        "id": "w7eBQBjmKBS0",
        "colab": {
          "base_uri": "https://localhost:8080/"
        },
        "outputId": "7128af82-738c-4984-c3ff-29013eb5f719"
      },
      "source": [
        "my_word = 'catnapping'\n",
        "if has_a_vowel(my_word):\n",
        "    print('How surprising, an english word contains a vowel.')\n",
        "else:\n",
        "    print('This is actually surprising.')"
      ],
      "execution_count": 256,
      "outputs": [
        {
          "output_type": "stream",
          "text": [
            "How surprising, an english word contains a vowel.\n"
          ],
          "name": "stdout"
        }
      ]
    },
    {
      "cell_type": "code",
      "metadata": {
        "id": "cp0-8PO0KBS0",
        "colab": {
          "base_uri": "https://localhost:8080/"
        },
        "outputId": "c0a7dc57-cf90-45f2-f38c-021c0ece4557"
      },
      "source": [
        "string = 'catnapping'\n",
        "if tieneVocal(string):\n",
        "    print('tiene vocales')\n",
        "else:\n",
        "    print('jah no tiene vocales')"
      ],
      "execution_count": 257,
      "outputs": [
        {
          "output_type": "stream",
          "text": [
            "tiene vocales\n"
          ],
          "name": "stdout"
        }
      ]
    },
    {
      "cell_type": "code",
      "metadata": {
        "id": "Bdz7X7FXKBS0"
      },
      "source": [
        "def point_maker(x, y):\n",
        "    \"\"\" Groups x and y values into a point, technically a tuple \"\"\"\n",
        "    return x, y"
      ],
      "execution_count": 258,
      "outputs": []
    },
    {
      "cell_type": "code",
      "metadata": {
        "id": "VzN_JiEMKBS0"
      },
      "source": [
        "def coordenadas(x, y):\n",
        "    \"\"\" Groups x and y values into a point, technically a tuple \"\"\"\n",
        "    return x, y"
      ],
      "execution_count": 259,
      "outputs": []
    },
    {
      "cell_type": "markdown",
      "metadata": {
        "id": "5TZXaS1RKBS0"
      },
      "source": [
        "This above function returns an ordered pair of the input parameters, stored as a tuple."
      ]
    },
    {
      "cell_type": "code",
      "metadata": {
        "scrolled": true,
        "id": "uoxt769WKBS0",
        "colab": {
          "base_uri": "https://localhost:8080/"
        },
        "outputId": "f9ee74ba-58bb-49e3-935b-bdbde007142f"
      },
      "source": [
        "a = point_maker(0, 10)\n",
        "b = point_maker(5, 3)\n",
        "def calculate_slope(point_a, point_b):\n",
        "    \"\"\" Calculates the linear slope between two points \"\"\"\n",
        "    return (point_b[1] - point_a[1])/(point_b[0] - point_a[0])\n",
        "print(\"The slope between a and b is {0}\".format(calculate_slope(a, b)))"
      ],
      "execution_count": 260,
      "outputs": [
        {
          "output_type": "stream",
          "text": [
            "The slope between a and b is -1.4\n"
          ],
          "name": "stdout"
        }
      ]
    },
    {
      "cell_type": "code",
      "metadata": {
        "scrolled": true,
        "id": "ZScvh8gYKBS1",
        "colab": {
          "base_uri": "https://localhost:8080/"
        },
        "outputId": "d1f3ecc0-e796-4beb-8430-82ed8385711b"
      },
      "source": [
        "a = coordenadas(0, 20)\n",
        "b = coordenadas(10, 6)\n",
        "def calcularPendiente(point_a, point_b):\n",
        "    return (point_b[1] - point_a[1])/(point_b[0] - point_a[0])\n",
        "print(\"pendiente\".format(calcularPendiente(a, b)))"
      ],
      "execution_count": 261,
      "outputs": [
        {
          "output_type": "stream",
          "text": [
            "pendiente\n"
          ],
          "name": "stdout"
        }
      ]
    },
    {
      "cell_type": "markdown",
      "metadata": {
        "id": "t4UuAHPTKBS1"
      },
      "source": [
        "And that one calculates the slope between two points!"
      ]
    },
    {
      "cell_type": "code",
      "metadata": {
        "id": "kxrI4FIXKBS1",
        "colab": {
          "base_uri": "https://localhost:8080/"
        },
        "outputId": "a7123c11-825e-496b-87d5-8b96d9a15fdb"
      },
      "source": [
        "print(\"The slope-intercept form of the line between a and b, using point a, is: y - {0} = {2}(x - {1})\".format(a[1], a[0], calculate_slope(a, b)))"
      ],
      "execution_count": 262,
      "outputs": [
        {
          "output_type": "stream",
          "text": [
            "The slope-intercept form of the line between a and b, using point a, is: y - 20 = -1.4(x - 0)\n"
          ],
          "name": "stdout"
        }
      ]
    },
    {
      "cell_type": "code",
      "metadata": {
        "id": "m3z1H5SwKBS1",
        "colab": {
          "base_uri": "https://localhost:8080/"
        },
        "outputId": "5c04c230-6103-413f-e3a7-d7f1ca6bb2a2"
      },
      "source": [
        "print(\"pues si wey es la pendiente\".format(a[1], a[0], coordenadas(a, b)))"
      ],
      "execution_count": 263,
      "outputs": [
        {
          "output_type": "stream",
          "text": [
            "pues si wey es la pendiente\n"
          ],
          "name": "stdout"
        }
      ]
    },
    {
      "cell_type": "markdown",
      "metadata": {
        "id": "WqBjn5X0KBS1"
      },
      "source": [
        "With the proper syntax, you can define functions to do whatever calculations you want. This makes them an indispensible part of programming in any language."
      ]
    },
    {
      "cell_type": "markdown",
      "metadata": {
        "id": "D2wurJbCKBS1"
      },
      "source": [
        "## Next Steps\n",
        "\n",
        "This was a lot of material and there is still even more to cover! Make sure you play around with the cells in each notebook to accustom yourself to the syntax featured here and to figure out any limitations. If you want to delve even deeper into the material, the [documentation for Python](https://docs.python.org/2/) is all available online. We are in the process of developing a second part to this Python tutorial, designed to provide you with even more programming knowledge, so keep an eye on the [Quantopian Lectures Page](quantopian.com/lectures) and the [forums](quantopian.com/posts) for any new lectures."
      ]
    },
    {
      "cell_type": "markdown",
      "metadata": {
        "id": "7bkd6ZblKBS1"
      },
      "source": [
        "*This presentation is for informational purposes only and does not constitute an offer to sell, a solicitation to buy, or a recommendation for any security; nor does it constitute an offer to provide investment advisory or other services by Quantopian, Inc. (\"Quantopian\"). Nothing contained herein constitutes investment advice or offers any opinion with respect to the suitability of any security, and any views expressed herein should not be taken as advice to buy, sell, or hold any security or as an endorsement of any security or company.  In preparing the information contained herein, Quantopian, Inc. has not taken into account the investment needs, objectives, and financial circumstances of any particular investor. Any views expressed and data illustrated herein were prepared based upon information, believed to be reliable, available to Quantopian, Inc. at the time of publication. Quantopian makes no guarantees as to their accuracy or completeness. All information is subject to change and may quickly become unreliable for various reasons, including changes in market conditions or economic circumstances.*"
      ]
    }
  ]
}