{
  "nbformat": 4,
  "nbformat_minor": 0,
  "metadata": {
    "kernelspec": {
      "display_name": "Python 3",
      "language": "python",
      "name": "python3"
    },
    "language_info": {
      "codemirror_mode": {
        "name": "ipython",
        "version": 3
      },
      "file_extension": ".py",
      "mimetype": "text/x-python",
      "name": "python",
      "nbconvert_exporter": "python",
      "pygments_lexer": "ipython3",
      "version": "3.5.2"
    },
    "colab": {
      "name": "week5_interpolation_approx (1).ipynb",
      "provenance": [],
      "collapsed_sections": []
    }
  },
  "cells": [
    {
      "cell_type": "markdown",
      "metadata": {
        "id": "rcz7rRNXziyN"
      },
      "source": [
        "Fellhipe Lorenzzo Gutierrez Fonseca"
      ]
    },
    {
      "cell_type": "markdown",
      "metadata": {
        "id": "X87aZNN9HHQl"
      },
      "source": [
        "# I. Linear least squares approximation"
      ]
    },
    {
      "cell_type": "markdown",
      "metadata": {
        "id": "GigM48yiHHQm"
      },
      "source": [
        "Consider a function $y = f(x)$ which is defined by a set of values $y_0, y_1, \\cdots, y_n$ at points $x_0, x_1, \\cdots, x_n$."
      ]
    },
    {
      "cell_type": "code",
      "metadata": {
        "collapsed": true,
        "id": "L-F0DBFEHHQn"
      },
      "source": [
        "x = [-1, -0.7, -0.43, -0.14, -0.14, 0.43, 0.71, 1, 1.29, 1.57, 1.86, 2.14, 2.43, 2.71, 3]\n",
        "y = [-2.25, -0.77, 0.21, 0.44, 0.64, 0.03, -0.22, -0.84, -1.2, -1.03, -0.37, 0.61, 2.67, 5.04, 8.90]"
      ],
      "execution_count": null,
      "outputs": []
    },
    {
      "cell_type": "markdown",
      "metadata": {
        "id": "zDjis0BEHHQo"
      },
      "source": [
        "### I.I. Find a best fit polynomial\n",
        "\n",
        "$$\n",
        "P_m(x) = a_0 + a_1 x + \\cdots + a_m x^m\n",
        "$$\n",
        "\n",
        "using the linear least squares approach. To this end\n",
        "\n",
        "1. implement a function which constructs the design matrix using $1, x, \\cdots, x^m$ as the basis functions.\n",
        "\n",
        "2. construct explicitly the normal system of equations of the linear least squares problem at fixed $m$.\n",
        "\n",
        "3. Solve the normal equations to find the coefficients of $P_m(x)$ for $m = 0, 1, 2, \\dots$. For the linear algebra problem, you can either use library functions (`numpy.linalg.solve`) or your LU factorization code from week 1.\n",
        "\n",
        "(20% of the total grade)"
      ]
    },
    {
      "cell_type": "markdown",
      "metadata": {
        "id": "pJOMkdJtHHQo"
      },
      "source": [
        "### I.II \n",
        "\n",
        "To find the optimal value of m, use the following criterion: take $m=0, 1, 2, \\dots$, for each value of $m$ compute \n",
        "\n",
        "$$\n",
        "\\sigma_m^2 = \\frac{1}{n - m} \\sum_{k=0}^n \\left( P_m(x_k) - y_k \\right)^2\n",
        "$$\n",
        "\n",
        "And take the value of $m$, at which $\\sigma_m$ stabilizes or starts increasing.\n",
        "\n",
        "(20% of the total grade)"
      ]
    },
    {
      "cell_type": "code",
      "metadata": {
        "colab": {
          "base_uri": "https://localhost:8080/"
        },
        "id": "tiETw9-sLNIG",
        "outputId": "70c7bd13-661f-4d68-e36b-365dc54f4d8a"
      },
      "source": [
        "# ... ENTER YOUR CODE HERE\n",
        "import numpy as np\n",
        "#print(x)\n",
        "#print(\"Tam x: \", len(x))\n",
        "\n",
        "pcol = []\n",
        "for i in range (0, len(x)):\n",
        "  pcol.append(1)\n",
        "\n",
        "#print(pcol)\n",
        "\n",
        "matriz= [ pcol, x]\n",
        "\n",
        "#print(\"Matriz: \", matriz)\n",
        "\n",
        "\n",
        "\n",
        "A_t = np.asarray(matriz, dtype=float)\n",
        "#print(A_t)\n",
        "\n",
        "A = np.transpose(A_t)\n",
        "#print(A)\n",
        "\n",
        "b = np.asarray(y, dtype=float)\n",
        "#print(b)\n",
        "\n",
        "m_final = A_t @ A\n",
        "#print(\"M Final: \\n\")\n",
        "#print(m_final)\n",
        "v_final = A_t @ b\n",
        "#print(\"V Final: \\n\")\n",
        "#print(v_final)\n",
        "conjunto_solucion = np.linalg.solve(m_final, v_final)\n",
        "print(\"Valor de a_0: \", conjunto_solucion[0], \", valor de a_1: \", conjunto_solucion[1])\n",
        "print(\"La linea recta más aproximada está dada por: \", conjunto_solucion[0], \"+\", conjunto_solucion[1], \"x\")"
      ],
      "execution_count": null,
      "outputs": [
        {
          "output_type": "stream",
          "text": [
            "Valor de a_0:  -0.6479868958438233 , valor de a_1:  1.4650239944098675\n",
            "La linea recta más aproximada está dada por:  -0.6479868958438233 + 1.4650239944098675 x\n"
          ],
          "name": "stdout"
        }
      ]
    },
    {
      "cell_type": "markdown",
      "metadata": {
        "id": "UrvfvkjrHHQp"
      },
      "source": [
        "Plot your polynomials $P_m(x)$ on one plot, together with the datapoints. Visually compare best-fit polynomials of different degrees. Is the visual comparison consistent with the optimal value of $m$?"
      ]
    },
    {
      "cell_type": "code",
      "metadata": {
        "collapsed": true,
        "colab": {
          "base_uri": "https://localhost:8080/",
          "height": 295
        },
        "id": "n3SXhlsaHHQp",
        "outputId": "b98bbd14-d82a-4f37-e1bb-9bc613287c2d"
      },
      "source": [
        "# ... ENTER YOUR CODE HERE\n",
        "# importing the required module\n",
        "import matplotlib.pyplot as plt\n",
        "\n",
        "def my_best_fit(x):\n",
        "  #print(conjunto_solucion[0],  \"+\",  conjunto_solucion[1], \"x\")\n",
        "  return (conjunto_solucion[0] + (conjunto_solucion[1]*x))\n",
        "\n",
        "  \n",
        "# x axis values\n",
        "dom = x\n",
        "# corresponding y axis values\n",
        "ran = y\n",
        "\n",
        "z = []\n",
        "for elem in dom:\n",
        "  ez = my_best_fit(elem)\n",
        "  #print(\"x: \", elem, \" f(x): \", ez )\n",
        "  z.append( ez )\n",
        "#for \n",
        "# plotting the points \n",
        "plt.plot(x, y, label = \"Points\")\n",
        "plt.plot(x, z, label = \"Best fit line\")\n",
        "  \n",
        "# naming the domaxis\n",
        "plt.xlabel('x')\n",
        "# naming the ranaxis\n",
        "plt.ylabel('y')\n",
        "  \n",
        "# giving a title to mrangraph\n",
        "plt.title('Points vs Best fit line')\n",
        "  \n",
        "# function to show the plot\n",
        "plt.legend()\n",
        "plt.show()\n",
        "\n",
        "\n",
        "#x = [-1, -0.7, -0.43, -0.14, -0.14, 0.43, 0.71, 1, 1.29, 1.57, 1.86, 2.14, 2.43, 2.71, 3]\n",
        "#y = [-2.25, -0.77, 0.21, 0.44, 0.64, 0.03, -0.22, -0.84, -1.2, -1.03, -0.37, 0.61, 2.67, 5.04, 8.90]"
      ],
      "execution_count": null,
      "outputs": [
        {
          "output_type": "display_data",
          "data": {
            "image/png": "[encoded data removed]",
            "text/plain": [
              "<Figure size 432x288 with 1 Axes>"
            ]
          },
          "metadata": {
            "tags": [],
            "needs_background": "light"
          }
        }
      ]
    },
    {
      "cell_type": "markdown",
      "metadata": {
        "id": "etEF-PscHHQq"
      },
      "source": [
        "### I.III. Linear least-squares using the QR factorization.\n",
        "\n",
        "For the optimal value of $m$ from the previous part, solve the LLS problem using the QR factorization, without ever forming the normal equations explicitly. For linear algebra, you can use standard library functions (look up `numpy.linalg.solve`, `numpy.linalg.qr` etc) or your code from previous weeks.\n",
        "\n",
        "Compare the results with the results of solving the normal system of equations.\n",
        "\n",
        "(20% of the grade)"
      ]
    },
    {
      "cell_type": "code",
      "metadata": {
        "collapsed": true,
        "colab": {
          "base_uri": "https://localhost:8080/"
        },
        "id": "ThWHO5P7HHQq",
        "outputId": "5d5daf9b-cb13-4655-f249-aea48cb3f07b"
      },
      "source": [
        "# ... ENTER YOUR CODE HERE ...\n",
        "#Factorize the design matrix A = QR\n",
        "#print(r)\n",
        "m = A.shape[1]\n",
        "q, r = np.linalg.qr(A)\n",
        "Q_t = np.transpose(q)\n",
        "f = (Q_t @ y)[:m]\n",
        "np.linalg.solve(r[:m],f)"
      ],
      "execution_count": null,
      "outputs": [
        {
          "output_type": "execute_result",
          "data": {
            "text/plain": [
              "array([-0.6479869 ,  1.46502399])"
            ]
          },
          "metadata": {
            "tags": []
          },
          "execution_count": 4
        }
      ]
    },
    {
      "cell_type": "markdown",
      "metadata": {
        "id": "uuB4NMcWHHQq"
      },
      "source": [
        "# II. Lagrange interpolation"
      ]
    },
    {
      "cell_type": "markdown",
      "metadata": {
        "id": "2KWthnCwHHQq"
      },
      "source": [
        "### II.1 \n",
        "\n",
        "Consider the function, $f(x) = x^2 \\cos{x}$. On the interval $x\\in [\\pi/2, \\pi]$, interpolate the function using the Lagrange interpolating polynomial of degree $m$ with $m=1, 2, 3, 4, 5$. Use the uniform mesh. Plot the resulting interpolants together with $f(x)$.\n",
        "\n",
        "(20% of the total grade)"
      ]
    },
    {
      "cell_type": "code",
      "metadata": {
        "collapsed": true,
        "colab": {
          "base_uri": "https://localhost:8080/",
          "height": 265
        },
        "id": "RhFyf8D7HHQr",
        "outputId": "34befb92-22ec-45e9-d14d-28fb66dfa9ea"
      },
      "source": [
        "def my_func(x):\n",
        "    return x**2*np.cos(x)\n",
        "\n",
        "def lagrange_interpolating_polynomial(interval, k, x):\n",
        "    \n",
        "    z = 1\n",
        "    for i in range(len(interval)):\n",
        "        if i!=k:\n",
        "            z*=x-interval[i]\n",
        "            z/=interval[k]-interval[i]    \n",
        "            \n",
        "    return z\n",
        "\t\n",
        "\t\n",
        "def interpola_lagrange(interval, x, y):\n",
        "    y_interp = np.zeros(len(x))\n",
        "    for i in range(len(interval)):\n",
        "        y_interp+=y[i]*lagrange_interpolating_polynomial(interval,i,x)\n",
        "    return y_interp\n",
        "\n",
        "x = np.linspace(np.pi/2,np.pi, 50)\n",
        "plt.plot(x,my_func(x))\n",
        "\n",
        "for m in range(1,6):\n",
        "    interval = np.linspace(np.pi/2,np.pi, m)\n",
        "    plt.plot(x, interpola_lagrange(interval, x, my_func(interval)))"
      ],
      "execution_count": null,
      "outputs": [
        {
          "output_type": "display_data",
          "data": {
            "image/png": "[encoded data removed]",
            "text/plain": [
              "<Figure size 432x288 with 1 Axes>"
            ]
          },
          "metadata": {
            "tags": [],
            "needs_background": "light"
          }
        }
      ]
    },
    {
      "cell_type": "markdown",
      "metadata": {
        "id": "DdEAx5ZZHHQr"
      },
      "source": [
        "### II.2. \n",
        "\n",
        "Repeat the previous task using the Chebyshev nodes. Compare the quality of interpolation on a uniform mesh and Chebyshev nodes for $m=3$.\n",
        "\n",
        "(20% of the total grade)"
      ]
    },
    {
      "cell_type": "code",
      "metadata": {
        "colab": {
          "base_uri": "https://localhost:8080/",
          "height": 282
        },
        "id": "-kIuHBU0HHQr",
        "outputId": "b1516c64-822f-4a0b-dbf9-340f41e1fb51"
      },
      "source": [
        "# ... ENTER YOUR CODE HERE ...\n",
        "def chebishev_nodes(a,b,m):\n",
        "    k = np.array(range(m))\n",
        "    x = np.cos(2*k+1/m)\n",
        "    return (x+1)*(b-a)/2 + a\n",
        "\t\n",
        "interval = chebishev_nodes(np.pi/2, np.pi, 3)\n",
        "\n",
        "plt.plot(x,my_func(x))\n",
        "plt.plot(x, interpola_lagrange(interval, x, my_func(interval)))"
      ],
      "execution_count": null,
      "outputs": [
        {
          "output_type": "execute_result",
          "data": {
            "text/plain": [
              "[<matplotlib.lines.Line2D at 0x7f22311933d0>]"
            ]
          },
          "metadata": {
            "tags": []
          },
          "execution_count": 6
        },
        {
          "output_type": "display_data",
          "data": {
            "image/png": "[encoded data removed]",
            "text/plain": [
              "<Figure size 432x288 with 1 Axes>"
            ]
          },
          "metadata": {
            "tags": [],
            "needs_background": "light"
          }
        }
      ]
    }
  ]
}
